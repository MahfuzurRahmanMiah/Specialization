{
 "cells": [
  {
   "cell_type": "markdown",
   "metadata": {},
   "source": [
    "## Towards Understanding Clients of FHFA loans.\n",
    "By Mahfuz Miah, February 3, 2020"
   ]
  },
  {
   "cell_type": "markdown",
   "metadata": {},
   "source": [
    "## 1. Background\n",
    "**Source of Data**: https://www.fhfa.gov/DataTools/Downloads/Pages/FHLBank-Public-Use-Database-Previous-Years.aspx\n",
    "\n",
    "**What is FHFA?**\n",
    "- Federal Housing Finance Agency, Federal Home Loan Bank Purchased Mortgage Files\n",
    "\n",
    "**What is the goal of this project?**\n",
    "- What can we learn about clients of FHFA?\n",
    "\n",
    "**What is the goal of FHFA as government agency?**\n",
    "- \"An independent regulatory agency, we oversee vital components of the secondary mortgage market including Fannie Mae, Freddie Mac and the Federal Home Loan Banks.  Our goal is to keep them, and the overall housing finance system, healthy.\"\n",
    "\n",
    "**Dictionary of Column Names and Data Meanings:**\n",
    "https://www.fhfa.gov/DataTools/Downloads/Documents/FHLBank-PUDB/AMA_PUDB_definitions_2018.pdf\n"
   ]
  },
  {
   "cell_type": "markdown",
   "metadata": {},
   "source": [
    "## 2. Guiding Question and Significance\n",
    "**Can we predict refinance status of a mortgage based on originating features of the mortgage and client characteristics?**\n",
    "\n",
    "\n",
    "- Governments have policies to help the public while also protecting against waste. Though the FHFA has regulations in place to allow for good mortgage transactions to take place, not all mortgages end well. Some of these lead to refinancing - in other cases, people take the refinancing route for better interest rates or a variety of other reasons. Can we cluster for these mortgage types and extract relavent features predict and are associated with refinance status; these features can help inform future FHFA policy guidance for Fannie Mae, Freddie Mac.\n",
    "\n",
    "- Such findings could also direct the government to provide services or resources to counter imbalances in populations or locations that may or may not be purchasing or refiancing homes. This would benefit the agency and the public as a whole.\n"
   ]
  },
  {
   "cell_type": "markdown",
   "metadata": {},
   "source": [
    "## 3. Understanding and Preparing the Data Set"
   ]
  },
  {
   "cell_type": "markdown",
   "metadata": {},
   "source": [
    "### a. Initial Set Up of Dataframe"
   ]
  },
  {
   "cell_type": "code",
   "execution_count": 327,
   "metadata": {},
   "outputs": [],
   "source": [
    "#Libraries:\n",
    "# import all necessary libraries\n",
    "import pandas as pd\n",
    "import numpy as np\n",
    "import matplotlib.pyplot as plt\n",
    "import matplotlib.dates as mdates\n",
    "import matplotlib.cbook as cbook\n",
    "import statistics\n",
    "from pandas import DataFrame\n",
    "import datetime\n",
    "import seaborn as sns\n",
    "from sklearn import linear_model\n",
    "from sqlalchemy import create_engine\n",
    "from sklearn import linear_model\n",
    "from fractions import Fraction\n",
    "import statsmodels.api as sm\n",
    "import seaborn as sns\n",
    "from scipy.stats import normaltest\n",
    "import math\n",
    "from textwrap import wrap\n",
    "from scipy.stats import boxcox\n",
    "\n",
    "#clustering libraries\n",
    "from sklearn.cluster import KMeans\n",
    "from sklearn.preprocessing import normalize\n",
    "from sklearn.decomposition import PCA\n",
    "from sklearn.cluster import MiniBatchKMeans\n",
    "\n",
    "#regression,CV libraries\n",
    "from sklearn.model_selection import train_test_split, cross_val_score\n",
    "from sklearn.metrics import mean_absolute_error\n",
    "from statsmodels.tools.eval_measures import mse, rmse\n",
    "from sklearn.linear_model import LinearRegression, LassoCV, RidgeCV, ElasticNetCV\n",
    "\n",
    "from sklearn import tree\n",
    "# A convenience for displaying visualizations.\n",
    "from IPython.display import Image\n",
    "# Packages for rendering our tree.\n",
    "import pydotplus\n",
    "import graphviz\n",
    "import time\n",
    "\n",
    "# set up the figure size\n",
    "%matplotlib inline"
   ]
  },
  {
   "cell_type": "code",
   "execution_count": 328,
   "metadata": {},
   "outputs": [],
   "source": [
    "# Set up the data\n",
    "\n",
    "def setdata(filename):\n",
    "    df = pd.read_csv(filename)\n",
    "    \n",
    "    # Strip and make column names lowercase so that they are easy to manage. \n",
    "    df.columns = df.columns.str.strip().str.lower()\n",
    "\n",
    "    # Replace characters or remove spaces and make all words lowercase.\n",
    "    df.columns = df.columns.str.replace(' ', '_').str.replace('/', '_').str.replace('(', '').str.replace(')', '')\n",
    "\n",
    "    return df"
   ]
  },
  {
   "cell_type": "code",
   "execution_count": 329,
   "metadata": {},
   "outputs": [],
   "source": [
    "# define path to website with the bank data\n",
    "path = \"https://www.fhfa.gov/DataTools/Downloads/Documents/FHLBank-PUDB/2018_PUDB_EXPORT_123118.csv\""
   ]
  },
  {
   "cell_type": "code",
   "execution_count": 330,
   "metadata": {},
   "outputs": [],
   "source": [
    "# setup the dataframe\n",
    "df = setdata(path)"
   ]
  },
  {
   "cell_type": "code",
   "execution_count": 331,
   "metadata": {},
   "outputs": [
    {
     "data": {
      "text/html": [
       "<div>\n",
       "<style scoped>\n",
       "    .dataframe tbody tr th:only-of-type {\n",
       "        vertical-align: middle;\n",
       "    }\n",
       "\n",
       "    .dataframe tbody tr th {\n",
       "        vertical-align: top;\n",
       "    }\n",
       "\n",
       "    .dataframe thead th {\n",
       "        text-align: right;\n",
       "    }\n",
       "</style>\n",
       "<table border=\"1\" class=\"dataframe\">\n",
       "  <thead>\n",
       "    <tr style=\"text-align: right;\">\n",
       "      <th></th>\n",
       "      <th>year</th>\n",
       "      <th>assignedid</th>\n",
       "      <th>bank</th>\n",
       "      <th>fipsstatecode</th>\n",
       "      <th>fipscountycode</th>\n",
       "      <th>msa</th>\n",
       "      <th>featureid</th>\n",
       "      <th>tract</th>\n",
       "      <th>minper</th>\n",
       "      <th>tramedy</th>\n",
       "      <th>...</th>\n",
       "      <th>corace2</th>\n",
       "      <th>corace3</th>\n",
       "      <th>corace4</th>\n",
       "      <th>corace5</th>\n",
       "      <th>hoepa</th>\n",
       "      <th>lienstatus</th>\n",
       "      <th>spchsggoals</th>\n",
       "      <th>fedfinstbltyplan</th>\n",
       "      <th>acqtyp</th>\n",
       "      <th>gsereo</th>\n",
       "    </tr>\n",
       "  </thead>\n",
       "  <tbody>\n",
       "    <tr>\n",
       "      <th>0</th>\n",
       "      <td>2018</td>\n",
       "      <td>2131406</td>\n",
       "      <td>Atlanta</td>\n",
       "      <td>24</td>\n",
       "      <td>21</td>\n",
       "      <td>47900</td>\n",
       "      <td>9999999999</td>\n",
       "      <td>7512.01</td>\n",
       "      <td>29.85</td>\n",
       "      <td>93261</td>\n",
       "      <td>...</td>\n",
       "      <td>6</td>\n",
       "      <td>6</td>\n",
       "      <td>6</td>\n",
       "      <td>6</td>\n",
       "      <td>2</td>\n",
       "      <td>1</td>\n",
       "      <td>2</td>\n",
       "      <td>2</td>\n",
       "      <td>1</td>\n",
       "      <td>2</td>\n",
       "    </tr>\n",
       "    <tr>\n",
       "      <th>1</th>\n",
       "      <td>2018</td>\n",
       "      <td>2131407</td>\n",
       "      <td>Atlanta</td>\n",
       "      <td>24</td>\n",
       "      <td>17</td>\n",
       "      <td>47900</td>\n",
       "      <td>9999999999</td>\n",
       "      <td>8509.04</td>\n",
       "      <td>67.24</td>\n",
       "      <td>112623</td>\n",
       "      <td>...</td>\n",
       "      <td>6</td>\n",
       "      <td>6</td>\n",
       "      <td>6</td>\n",
       "      <td>6</td>\n",
       "      <td>2</td>\n",
       "      <td>1</td>\n",
       "      <td>2</td>\n",
       "      <td>2</td>\n",
       "      <td>1</td>\n",
       "      <td>2</td>\n",
       "    </tr>\n",
       "    <tr>\n",
       "      <th>2</th>\n",
       "      <td>2018</td>\n",
       "      <td>2131408</td>\n",
       "      <td>Atlanta</td>\n",
       "      <td>51</td>\n",
       "      <td>153</td>\n",
       "      <td>47900</td>\n",
       "      <td>9999999999</td>\n",
       "      <td>9012.36</td>\n",
       "      <td>40.76</td>\n",
       "      <td>140156</td>\n",
       "      <td>...</td>\n",
       "      <td>6</td>\n",
       "      <td>6</td>\n",
       "      <td>6</td>\n",
       "      <td>6</td>\n",
       "      <td>2</td>\n",
       "      <td>1</td>\n",
       "      <td>2</td>\n",
       "      <td>2</td>\n",
       "      <td>1</td>\n",
       "      <td>2</td>\n",
       "    </tr>\n",
       "    <tr>\n",
       "      <th>3</th>\n",
       "      <td>2018</td>\n",
       "      <td>2131409</td>\n",
       "      <td>Atlanta</td>\n",
       "      <td>51</td>\n",
       "      <td>59</td>\n",
       "      <td>47900</td>\n",
       "      <td>9999999999</td>\n",
       "      <td>4221.02</td>\n",
       "      <td>75.97</td>\n",
       "      <td>89250</td>\n",
       "      <td>...</td>\n",
       "      <td>8</td>\n",
       "      <td>8</td>\n",
       "      <td>8</td>\n",
       "      <td>8</td>\n",
       "      <td>2</td>\n",
       "      <td>1</td>\n",
       "      <td>2</td>\n",
       "      <td>2</td>\n",
       "      <td>1</td>\n",
       "      <td>2</td>\n",
       "    </tr>\n",
       "    <tr>\n",
       "      <th>4</th>\n",
       "      <td>2018</td>\n",
       "      <td>2131410</td>\n",
       "      <td>Atlanta</td>\n",
       "      <td>24</td>\n",
       "      <td>5</td>\n",
       "      <td>12580</td>\n",
       "      <td>9999999999</td>\n",
       "      <td>4924.02</td>\n",
       "      <td>64.56</td>\n",
       "      <td>81397</td>\n",
       "      <td>...</td>\n",
       "      <td>8</td>\n",
       "      <td>8</td>\n",
       "      <td>8</td>\n",
       "      <td>8</td>\n",
       "      <td>2</td>\n",
       "      <td>1</td>\n",
       "      <td>2</td>\n",
       "      <td>2</td>\n",
       "      <td>1</td>\n",
       "      <td>2</td>\n",
       "    </tr>\n",
       "    <tr>\n",
       "      <th>...</th>\n",
       "      <td>...</td>\n",
       "      <td>...</td>\n",
       "      <td>...</td>\n",
       "      <td>...</td>\n",
       "      <td>...</td>\n",
       "      <td>...</td>\n",
       "      <td>...</td>\n",
       "      <td>...</td>\n",
       "      <td>...</td>\n",
       "      <td>...</td>\n",
       "      <td>...</td>\n",
       "      <td>...</td>\n",
       "      <td>...</td>\n",
       "      <td>...</td>\n",
       "      <td>...</td>\n",
       "      <td>...</td>\n",
       "      <td>...</td>\n",
       "      <td>...</td>\n",
       "      <td>...</td>\n",
       "      <td>...</td>\n",
       "      <td>...</td>\n",
       "    </tr>\n",
       "    <tr>\n",
       "      <th>65698</th>\n",
       "      <td>2018</td>\n",
       "      <td>2161350</td>\n",
       "      <td>Topeka</td>\n",
       "      <td>40</td>\n",
       "      <td>143</td>\n",
       "      <td>46140</td>\n",
       "      <td>9999999999</td>\n",
       "      <td>75.22</td>\n",
       "      <td>22.82</td>\n",
       "      <td>69635</td>\n",
       "      <td>...</td>\n",
       "      <td>6</td>\n",
       "      <td>6</td>\n",
       "      <td>6</td>\n",
       "      <td>6</td>\n",
       "      <td>2</td>\n",
       "      <td>1</td>\n",
       "      <td>2</td>\n",
       "      <td>2</td>\n",
       "      <td>1</td>\n",
       "      <td>2</td>\n",
       "    </tr>\n",
       "    <tr>\n",
       "      <th>65699</th>\n",
       "      <td>2018</td>\n",
       "      <td>2161351</td>\n",
       "      <td>Topeka</td>\n",
       "      <td>31</td>\n",
       "      <td>109</td>\n",
       "      <td>30700</td>\n",
       "      <td>9999999999</td>\n",
       "      <td>37.09</td>\n",
       "      <td>7.61</td>\n",
       "      <td>94198</td>\n",
       "      <td>...</td>\n",
       "      <td>6</td>\n",
       "      <td>6</td>\n",
       "      <td>6</td>\n",
       "      <td>6</td>\n",
       "      <td>2</td>\n",
       "      <td>1</td>\n",
       "      <td>2</td>\n",
       "      <td>2</td>\n",
       "      <td>1</td>\n",
       "      <td>2</td>\n",
       "    </tr>\n",
       "    <tr>\n",
       "      <th>65700</th>\n",
       "      <td>2018</td>\n",
       "      <td>2161352</td>\n",
       "      <td>Topeka</td>\n",
       "      <td>19</td>\n",
       "      <td>133</td>\n",
       "      <td>99999</td>\n",
       "      <td>9999999999</td>\n",
       "      <td>9602.00</td>\n",
       "      <td>3.69</td>\n",
       "      <td>69688</td>\n",
       "      <td>...</td>\n",
       "      <td>8</td>\n",
       "      <td>8</td>\n",
       "      <td>8</td>\n",
       "      <td>8</td>\n",
       "      <td>2</td>\n",
       "      <td>1</td>\n",
       "      <td>2</td>\n",
       "      <td>2</td>\n",
       "      <td>1</td>\n",
       "      <td>2</td>\n",
       "    </tr>\n",
       "    <tr>\n",
       "      <th>65701</th>\n",
       "      <td>2018</td>\n",
       "      <td>2161353</td>\n",
       "      <td>Topeka</td>\n",
       "      <td>31</td>\n",
       "      <td>153</td>\n",
       "      <td>36540</td>\n",
       "      <td>9999999999</td>\n",
       "      <td>106.23</td>\n",
       "      <td>10.16</td>\n",
       "      <td>98707</td>\n",
       "      <td>...</td>\n",
       "      <td>6</td>\n",
       "      <td>6</td>\n",
       "      <td>6</td>\n",
       "      <td>6</td>\n",
       "      <td>2</td>\n",
       "      <td>1</td>\n",
       "      <td>2</td>\n",
       "      <td>2</td>\n",
       "      <td>1</td>\n",
       "      <td>2</td>\n",
       "    </tr>\n",
       "    <tr>\n",
       "      <th>65702</th>\n",
       "      <td>2018</td>\n",
       "      <td>2161354</td>\n",
       "      <td>Topeka</td>\n",
       "      <td>31</td>\n",
       "      <td>179</td>\n",
       "      <td>99999</td>\n",
       "      <td>9999999999</td>\n",
       "      <td>9787.00</td>\n",
       "      <td>9.02</td>\n",
       "      <td>69090</td>\n",
       "      <td>...</td>\n",
       "      <td>6</td>\n",
       "      <td>6</td>\n",
       "      <td>6</td>\n",
       "      <td>6</td>\n",
       "      <td>2</td>\n",
       "      <td>1</td>\n",
       "      <td>2</td>\n",
       "      <td>2</td>\n",
       "      <td>1</td>\n",
       "      <td>2</td>\n",
       "    </tr>\n",
       "  </tbody>\n",
       "</table>\n",
       "<p>65703 rows × 82 columns</p>\n",
       "</div>"
      ],
      "text/plain": [
       "       year  assignedid     bank  fipsstatecode  fipscountycode    msa  \\\n",
       "0      2018     2131406  Atlanta             24              21  47900   \n",
       "1      2018     2131407  Atlanta             24              17  47900   \n",
       "2      2018     2131408  Atlanta             51             153  47900   \n",
       "3      2018     2131409  Atlanta             51              59  47900   \n",
       "4      2018     2131410  Atlanta             24               5  12580   \n",
       "...     ...         ...      ...            ...             ...    ...   \n",
       "65698  2018     2161350   Topeka             40             143  46140   \n",
       "65699  2018     2161351   Topeka             31             109  30700   \n",
       "65700  2018     2161352   Topeka             19             133  99999   \n",
       "65701  2018     2161353   Topeka             31             153  36540   \n",
       "65702  2018     2161354   Topeka             31             179  99999   \n",
       "\n",
       "        featureid    tract  minper  tramedy  ...  corace2  corace3  corace4  \\\n",
       "0      9999999999  7512.01   29.85    93261  ...        6        6        6   \n",
       "1      9999999999  8509.04   67.24   112623  ...        6        6        6   \n",
       "2      9999999999  9012.36   40.76   140156  ...        6        6        6   \n",
       "3      9999999999  4221.02   75.97    89250  ...        8        8        8   \n",
       "4      9999999999  4924.02   64.56    81397  ...        8        8        8   \n",
       "...           ...      ...     ...      ...  ...      ...      ...      ...   \n",
       "65698  9999999999    75.22   22.82    69635  ...        6        6        6   \n",
       "65699  9999999999    37.09    7.61    94198  ...        6        6        6   \n",
       "65700  9999999999  9602.00    3.69    69688  ...        8        8        8   \n",
       "65701  9999999999   106.23   10.16    98707  ...        6        6        6   \n",
       "65702  9999999999  9787.00    9.02    69090  ...        6        6        6   \n",
       "\n",
       "       corace5  hoepa  lienstatus  spchsggoals  fedfinstbltyplan  acqtyp  \\\n",
       "0            6      2           1            2                 2       1   \n",
       "1            6      2           1            2                 2       1   \n",
       "2            6      2           1            2                 2       1   \n",
       "3            8      2           1            2                 2       1   \n",
       "4            8      2           1            2                 2       1   \n",
       "...        ...    ...         ...          ...               ...     ...   \n",
       "65698        6      2           1            2                 2       1   \n",
       "65699        6      2           1            2                 2       1   \n",
       "65700        8      2           1            2                 2       1   \n",
       "65701        6      2           1            2                 2       1   \n",
       "65702        6      2           1            2                 2       1   \n",
       "\n",
       "       gsereo  \n",
       "0           2  \n",
       "1           2  \n",
       "2           2  \n",
       "3           2  \n",
       "4           2  \n",
       "...       ...  \n",
       "65698       2  \n",
       "65699       2  \n",
       "65700       2  \n",
       "65701       2  \n",
       "65702       2  \n",
       "\n",
       "[65703 rows x 82 columns]"
      ]
     },
     "execution_count": 331,
     "metadata": {},
     "output_type": "execute_result"
    }
   ],
   "source": [
    "# let's see what it looks like\n",
    "df"
   ]
  },
  {
   "cell_type": "code",
   "execution_count": 332,
   "metadata": {},
   "outputs": [
    {
     "data": {
      "text/plain": [
       "(65703, 82)"
      ]
     },
     "execution_count": 332,
     "metadata": {},
     "output_type": "execute_result"
    }
   ],
   "source": [
    "# how big is the df?\n",
    "df.shape"
   ]
  },
  {
   "cell_type": "code",
   "execution_count": 333,
   "metadata": {},
   "outputs": [
    {
     "name": "stdout",
     "output_type": "stream",
     "text": [
      "Column values in dataframe: ['year', 'assignedid', 'bank', 'fipsstatecode', 'fipscountycode', 'msa', 'featureid', 'tract', 'minper', 'tramedy', 'locmedy', 'tractrat', 'income', 'curarey', 'incrat', 'upb', 'ltv', 'mortdate', 'acqudate', 'purpose', 'coop', 'product', 'fedguar', 'term', 'amorterm', 'selltype', 'numbor', 'first', 'cica', 'borace', 'corace', 'bogender', 'cogender', 'boage', 'coage', 'occup', 'numunits', 'bed1', 'bed2', 'bed3', 'bed4', 'aff1', 'aff2', 'aff3', 'aff4', 'rent1', 'rent2', 'rent3', 'rent4', 'rentut1', 'rentut2', 'rentut3', 'rentut4', 'geog', 'rate', 'amount', 'front', 'back', 'bocreditscore', 'cobocreditscore', 'pmi', 'self', 'proptype', 'armindex', 'armmarg', 'prepayp', 'boeth', 'race2', 'race3', 'race4', 'race5', 'coeth', 'corace2', 'corace3', 'corace4', 'corace5', 'hoepa', 'lienstatus', 'spchsggoals', 'fedfinstbltyplan', 'acqtyp', 'gsereo']\n",
      "          year    assignedid  fipsstatecode  fipscountycode           msa  \\\n",
      "count  65703.0  6.570300e+04   65703.000000    65703.000000  65703.000000   \n",
      "mean    2018.0  2.161124e+06      28.486690       87.947339  34979.136919   \n",
      "std        0.0  1.896697e+04      14.917115       85.391896  22587.264610   \n",
      "min     2018.0  2.128273e+06       1.000000        1.000000  10100.000000   \n",
      "25%     2018.0  2.144698e+06      18.000000       31.000000  19220.000000   \n",
      "50%     2018.0  2.161124e+06      26.000000       71.000000  30780.000000   \n",
      "75%     2018.0  2.177550e+06      39.000000      119.000000  41180.000000   \n",
      "max     2018.0  2.193975e+06      72.000000      840.000000  99999.000000   \n",
      "\n",
      "          featureid         tract        minper        tramedy        locmedy  \\\n",
      "count  6.570300e+04  65703.000000  65703.000000   65703.000000   65703.000000   \n",
      "mean   7.348427e+09   2774.683530     19.542209   83313.155411   70534.650199   \n",
      "std    4.413622e+09   3628.958393     19.642892   29989.138381   12351.727149   \n",
      "min    6.920000e+03      1.000000      0.000000       0.000000   18666.000000   \n",
      "25%    2.410812e+06    103.430000      5.950000   62375.000000   62393.000000   \n",
      "50%    1.000000e+10    508.000000     12.540000   77318.000000   69434.000000   \n",
      "75%    1.000000e+10   5105.010000     25.620000   99719.500000   75898.000000   \n",
      "max    1.000000e+10   9900.010000    100.000000  250001.000000  127500.000000   \n",
      "\n",
      "       ...       corace2       corace3       corace4       corace5    hoepa  \\\n",
      "count  ...  65703.000000  65703.000000  65703.000000  65703.000000  65703.0   \n",
      "mean   ...      6.891527      6.894297      6.894373      6.894404      2.0   \n",
      "std    ...      1.000410      0.994650      0.994498      0.994440      0.0   \n",
      "min    ...      1.000000      3.000000      4.000000      5.000000      2.0   \n",
      "25%    ...      6.000000      6.000000      6.000000      6.000000      2.0   \n",
      "50%    ...      6.000000      6.000000      6.000000      6.000000      2.0   \n",
      "75%    ...      8.000000      8.000000      8.000000      8.000000      2.0   \n",
      "max    ...      8.000000      8.000000      8.000000      8.000000      2.0   \n",
      "\n",
      "       lienstatus   spchsggoals  fedfinstbltyplan        acqtyp   gsereo  \n",
      "count     65703.0  65703.000000           65703.0  65703.000000  65703.0  \n",
      "mean          1.0      1.970017               2.0      1.408885      2.0  \n",
      "std           0.0      0.170543               0.0      1.029313      0.0  \n",
      "min           1.0      1.000000               2.0      1.000000      2.0  \n",
      "25%           1.0      2.000000               2.0      1.000000      2.0  \n",
      "50%           1.0      2.000000               2.0      1.000000      2.0  \n",
      "75%           1.0      2.000000               2.0      1.000000      2.0  \n",
      "max           1.0      2.000000               2.0      4.000000      2.0  \n",
      "\n",
      "[8 rows x 79 columns]\n"
     ]
    },
    {
     "data": {
      "text/plain": [
       "['year',\n",
       " 'assignedid',\n",
       " 'bank',\n",
       " 'fipsstatecode',\n",
       " 'fipscountycode',\n",
       " 'msa',\n",
       " 'featureid',\n",
       " 'tract',\n",
       " 'minper',\n",
       " 'tramedy',\n",
       " 'locmedy',\n",
       " 'tractrat',\n",
       " 'income',\n",
       " 'curarey',\n",
       " 'incrat',\n",
       " 'upb',\n",
       " 'ltv',\n",
       " 'mortdate',\n",
       " 'acqudate',\n",
       " 'purpose',\n",
       " 'coop',\n",
       " 'product',\n",
       " 'fedguar',\n",
       " 'term',\n",
       " 'amorterm',\n",
       " 'selltype',\n",
       " 'numbor',\n",
       " 'first',\n",
       " 'cica',\n",
       " 'borace',\n",
       " 'corace',\n",
       " 'bogender',\n",
       " 'cogender',\n",
       " 'boage',\n",
       " 'coage',\n",
       " 'occup',\n",
       " 'numunits',\n",
       " 'bed1',\n",
       " 'bed2',\n",
       " 'bed3',\n",
       " 'bed4',\n",
       " 'aff1',\n",
       " 'aff2',\n",
       " 'aff3',\n",
       " 'aff4',\n",
       " 'rent1',\n",
       " 'rent2',\n",
       " 'rent3',\n",
       " 'rent4',\n",
       " 'rentut1',\n",
       " 'rentut2',\n",
       " 'rentut3',\n",
       " 'rentut4',\n",
       " 'geog',\n",
       " 'rate',\n",
       " 'amount',\n",
       " 'front',\n",
       " 'back',\n",
       " 'bocreditscore',\n",
       " 'cobocreditscore',\n",
       " 'pmi',\n",
       " 'self',\n",
       " 'proptype',\n",
       " 'armindex',\n",
       " 'armmarg',\n",
       " 'prepayp',\n",
       " 'boeth',\n",
       " 'race2',\n",
       " 'race3',\n",
       " 'race4',\n",
       " 'race5',\n",
       " 'coeth',\n",
       " 'corace2',\n",
       " 'corace3',\n",
       " 'corace4',\n",
       " 'corace5',\n",
       " 'hoepa',\n",
       " 'lienstatus',\n",
       " 'spchsggoals',\n",
       " 'fedfinstbltyplan',\n",
       " 'acqtyp',\n",
       " 'gsereo']"
      ]
     },
     "execution_count": 333,
     "metadata": {},
     "output_type": "execute_result"
    }
   ],
   "source": [
    "# Let's see what the names of each column actually look like\n",
    "# Also, what's inside the file? Let's take a preview.\n",
    "def whats_inside(df):\n",
    "    col_names = list(df.columns.values) \n",
    "    print(f\"Column values in dataframe: {col_names}\") \n",
    "    print(df.describe())\n",
    "    return column_names\n",
    "\n",
    "column_names = whats_inside(df)\n",
    "column_names"
   ]
  },
  {
   "cell_type": "markdown",
   "metadata": {},
   "source": [
    "Column names are regular, single worded, understandable and don't appear with symbols that need to be handled; we don't need further cleaning. We note from the describe() function that some columns only have one value as noted by standard deviations of 0 and mean, min and max being the same integer - patterns like that tell us that the whole column only has one unique value throughout the dataset."
   ]
  },
  {
   "cell_type": "code",
   "execution_count": 334,
   "metadata": {},
   "outputs": [
    {
     "name": "stdout",
     "output_type": "stream",
     "text": [
      "<class 'pandas.core.frame.DataFrame'>\n",
      "RangeIndex: 65703 entries, 0 to 65702\n",
      "Data columns (total 82 columns):\n",
      "year                65703 non-null int64\n",
      "assignedid          65703 non-null int64\n",
      "bank                65703 non-null object\n",
      "fipsstatecode       65703 non-null int64\n",
      "fipscountycode      65703 non-null int64\n",
      "msa                 65703 non-null int64\n",
      "featureid           65703 non-null int64\n",
      "tract               65703 non-null float64\n",
      "minper              65703 non-null float64\n",
      "tramedy             65703 non-null int64\n",
      "locmedy             65703 non-null int64\n",
      "tractrat            65703 non-null float64\n",
      "income              65703 non-null int64\n",
      "curarey             65703 non-null int64\n",
      "incrat              65703 non-null float64\n",
      "upb                 65703 non-null int64\n",
      "ltv                 65703 non-null float64\n",
      "mortdate            65703 non-null int64\n",
      "acqudate            65703 non-null int64\n",
      "purpose             65703 non-null int64\n",
      "coop                65703 non-null int64\n",
      "product             65703 non-null int64\n",
      "fedguar             65703 non-null int64\n",
      "term                65703 non-null int64\n",
      "amorterm            65703 non-null int64\n",
      "selltype            65703 non-null int64\n",
      "numbor              65703 non-null int64\n",
      "first               65703 non-null int64\n",
      "cica                65703 non-null int64\n",
      "borace              65703 non-null int64\n",
      "corace              65703 non-null int64\n",
      "bogender            65703 non-null int64\n",
      "cogender            65703 non-null int64\n",
      "boage               65703 non-null int64\n",
      "coage               65703 non-null int64\n",
      "occup               65703 non-null int64\n",
      "numunits            65703 non-null int64\n",
      "bed1                65703 non-null int64\n",
      "bed2                65703 non-null int64\n",
      "bed3                65703 non-null int64\n",
      "bed4                65703 non-null int64\n",
      "aff1                65703 non-null int64\n",
      "aff2                65703 non-null int64\n",
      "aff3                65703 non-null int64\n",
      "aff4                65703 non-null int64\n",
      "rent1               65703 non-null int64\n",
      "rent2               65703 non-null int64\n",
      "rent3               65703 non-null int64\n",
      "rent4               65703 non-null int64\n",
      "rentut1             65703 non-null int64\n",
      "rentut2             65703 non-null int64\n",
      "rentut3             65703 non-null int64\n",
      "rentut4             65703 non-null int64\n",
      "geog                65703 non-null int64\n",
      "rate                65703 non-null float64\n",
      "amount              65703 non-null int64\n",
      "front               65703 non-null float64\n",
      "back                65703 non-null float64\n",
      "bocreditscore       65703 non-null int64\n",
      "cobocreditscore     65703 non-null int64\n",
      "pmi                 65703 non-null float64\n",
      "self                65703 non-null int64\n",
      "proptype            65703 non-null object\n",
      "armindex            65703 non-null int64\n",
      "armmarg             65703 non-null int64\n",
      "prepayp             65703 non-null object\n",
      "boeth               65703 non-null int64\n",
      "race2               65703 non-null int64\n",
      "race3               65703 non-null int64\n",
      "race4               65703 non-null int64\n",
      "race5               65703 non-null int64\n",
      "coeth               65703 non-null int64\n",
      "corace2             65703 non-null int64\n",
      "corace3             65703 non-null int64\n",
      "corace4             65703 non-null int64\n",
      "corace5             65703 non-null int64\n",
      "hoepa               65703 non-null int64\n",
      "lienstatus          65703 non-null int64\n",
      "spchsggoals         65703 non-null int64\n",
      "fedfinstbltyplan    65703 non-null int64\n",
      "acqtyp              65703 non-null int64\n",
      "gsereo              65703 non-null int64\n",
      "dtypes: float64(9), int64(70), object(3)\n",
      "memory usage: 41.1+ MB\n"
     ]
    }
   ],
   "source": [
    "# what type of data is in each column?\n",
    "df.info()"
   ]
  },
  {
   "cell_type": "code",
   "execution_count": 335,
   "metadata": {},
   "outputs": [
    {
     "data": {
      "text/html": [
       "<div>\n",
       "<style scoped>\n",
       "    .dataframe tbody tr th:only-of-type {\n",
       "        vertical-align: middle;\n",
       "    }\n",
       "\n",
       "    .dataframe tbody tr th {\n",
       "        vertical-align: top;\n",
       "    }\n",
       "\n",
       "    .dataframe thead th {\n",
       "        text-align: right;\n",
       "    }\n",
       "</style>\n",
       "<table border=\"1\" class=\"dataframe\">\n",
       "  <thead>\n",
       "    <tr style=\"text-align: right;\">\n",
       "      <th></th>\n",
       "      <th>Column_Name</th>\n",
       "      <th># Missing</th>\n",
       "      <th>Fraction Missing</th>\n",
       "      <th>Percent Missing</th>\n",
       "    </tr>\n",
       "  </thead>\n",
       "  <tbody>\n",
       "    <tr>\n",
       "      <th>0</th>\n",
       "      <td>year</td>\n",
       "      <td>0</td>\n",
       "      <td>0</td>\n",
       "      <td>0.0</td>\n",
       "    </tr>\n",
       "    <tr>\n",
       "      <th>1</th>\n",
       "      <td>assignedid</td>\n",
       "      <td>0</td>\n",
       "      <td>0</td>\n",
       "      <td>0.0</td>\n",
       "    </tr>\n",
       "    <tr>\n",
       "      <th>2</th>\n",
       "      <td>bank</td>\n",
       "      <td>0</td>\n",
       "      <td>0</td>\n",
       "      <td>0.0</td>\n",
       "    </tr>\n",
       "    <tr>\n",
       "      <th>3</th>\n",
       "      <td>fipsstatecode</td>\n",
       "      <td>0</td>\n",
       "      <td>0</td>\n",
       "      <td>0.0</td>\n",
       "    </tr>\n",
       "    <tr>\n",
       "      <th>4</th>\n",
       "      <td>fipscountycode</td>\n",
       "      <td>0</td>\n",
       "      <td>0</td>\n",
       "      <td>0.0</td>\n",
       "    </tr>\n",
       "    <tr>\n",
       "      <th>...</th>\n",
       "      <td>...</td>\n",
       "      <td>...</td>\n",
       "      <td>...</td>\n",
       "      <td>...</td>\n",
       "    </tr>\n",
       "    <tr>\n",
       "      <th>77</th>\n",
       "      <td>lienstatus</td>\n",
       "      <td>0</td>\n",
       "      <td>0</td>\n",
       "      <td>0.0</td>\n",
       "    </tr>\n",
       "    <tr>\n",
       "      <th>78</th>\n",
       "      <td>spchsggoals</td>\n",
       "      <td>0</td>\n",
       "      <td>0</td>\n",
       "      <td>0.0</td>\n",
       "    </tr>\n",
       "    <tr>\n",
       "      <th>79</th>\n",
       "      <td>fedfinstbltyplan</td>\n",
       "      <td>0</td>\n",
       "      <td>0</td>\n",
       "      <td>0.0</td>\n",
       "    </tr>\n",
       "    <tr>\n",
       "      <th>80</th>\n",
       "      <td>acqtyp</td>\n",
       "      <td>0</td>\n",
       "      <td>0</td>\n",
       "      <td>0.0</td>\n",
       "    </tr>\n",
       "    <tr>\n",
       "      <th>81</th>\n",
       "      <td>gsereo</td>\n",
       "      <td>0</td>\n",
       "      <td>0</td>\n",
       "      <td>0.0</td>\n",
       "    </tr>\n",
       "  </tbody>\n",
       "</table>\n",
       "<p>82 rows × 4 columns</p>\n",
       "</div>"
      ],
      "text/plain": [
       "         Column_Name  # Missing Fraction Missing  Percent Missing\n",
       "0               year          0                0              0.0\n",
       "1         assignedid          0                0              0.0\n",
       "2               bank          0                0              0.0\n",
       "3      fipsstatecode          0                0              0.0\n",
       "4     fipscountycode          0                0              0.0\n",
       "..               ...        ...              ...              ...\n",
       "77        lienstatus          0                0              0.0\n",
       "78       spchsggoals          0                0              0.0\n",
       "79  fedfinstbltyplan          0                0              0.0\n",
       "80            acqtyp          0                0              0.0\n",
       "81            gsereo          0                0              0.0\n",
       "\n",
       "[82 rows x 4 columns]"
      ]
     },
     "execution_count": 335,
     "metadata": {},
     "output_type": "execute_result"
    }
   ],
   "source": [
    "## Let's find the percent of empty entries in each column\n",
    "\n",
    "def percentmissing (df):\n",
    "    numer = df.isnull().sum() \n",
    "    denom = df.isnull().count()\n",
    "\n",
    "    data= []\n",
    "    #Below is code I used to check what the fractions were prior to trying to view with the dataframe version \n",
    "    #i = 0 \n",
    "    #for x,y in zip(numer,denom):\n",
    "    #    print (numer.index[i], \":\", (Fraction(x,y)))\n",
    "    #    i+=1\n",
    "\n",
    "    #View results in dataframe\n",
    "    i = 0\n",
    "    for x,y in zip(numer,denom):\n",
    "        data.append([numer.index[i],x,(Fraction(x,y)), x*100/y])\n",
    "        i+=1\n",
    "    \n",
    "    df1 = pd.DataFrame(data,columns = ['Column_Name','# Missing', 'Fraction Missing','Percent Missing'])\n",
    "    return df1\n",
    "\n",
    "percentmissing(df)"
   ]
  },
  {
   "cell_type": "code",
   "execution_count": 336,
   "metadata": {},
   "outputs": [
    {
     "data": {
      "image/png": "[encoded data removed]",
      "text/plain": [
       "<Figure size 432x288 with 1 Axes>"
      ]
     },
     "metadata": {},
     "output_type": "display_data"
    }
   ],
   "source": [
    "## Are there rows with multiple missing entries?\n",
    "na_count = df.isnull().sum(axis=1) # sum up all the NAs by each row of the df\n",
    "plt.hist(na_count) # make a histogram of the counts by row\n",
    "plt.xlabel(\"Num of NAs per row\") # x-axis label\n",
    "plt.show()"
   ]
  },
  {
   "cell_type": "markdown",
   "metadata": {},
   "source": [
    "Though we note that no null values currently exist in the data set, we can look at the dictionary documentation (link at the top) that list aberrant data for some columns as nonsensical entries, such as: 98, 999999999, 99, 99999. Let's take a look at the data as a whole see if we want to keep and clean these columns for the purposes of this model.\n"
   ]
  },
  {
   "cell_type": "code",
   "execution_count": 337,
   "metadata": {},
   "outputs": [],
   "source": [
    "# define functions that allow us to select and make variables that parse between numeric\n",
    "# and non-numeric columns in a dataframe\n",
    "\n",
    "def num_col (df):\n",
    "    numeric_columns = df.select_dtypes(['int64','float64']).columns\n",
    "    print(f\"The number of numerical columns is {len(numeric_columns)}\")\n",
    "    return numeric_columns\n",
    "\n",
    "def non_num_col (df):\n",
    "    non_numeric_columns = df.select_dtypes(['object']).columns\n",
    "    print(f\"The number of non-numerical columns is {len(non_numeric_columns)}\")\n",
    "    return non_numeric_columns"
   ]
  },
  {
   "cell_type": "code",
   "execution_count": 338,
   "metadata": {},
   "outputs": [
    {
     "name": "stdout",
     "output_type": "stream",
     "text": [
      "The number of numerical columns is 79\n"
     ]
    },
    {
     "data": {
      "text/plain": [
       "Index(['year', 'assignedid', 'fipsstatecode', 'fipscountycode', 'msa',\n",
       "       'featureid', 'tract', 'minper', 'tramedy', 'locmedy', 'tractrat',\n",
       "       'income', 'curarey', 'incrat', 'upb', 'ltv', 'mortdate', 'acqudate',\n",
       "       'purpose', 'coop', 'product', 'fedguar', 'term', 'amorterm', 'selltype',\n",
       "       'numbor', 'first', 'cica', 'borace', 'corace', 'bogender', 'cogender',\n",
       "       'boage', 'coage', 'occup', 'numunits', 'bed1', 'bed2', 'bed3', 'bed4',\n",
       "       'aff1', 'aff2', 'aff3', 'aff4', 'rent1', 'rent2', 'rent3', 'rent4',\n",
       "       'rentut1', 'rentut2', 'rentut3', 'rentut4', 'geog', 'rate', 'amount',\n",
       "       'front', 'back', 'bocreditscore', 'cobocreditscore', 'pmi', 'self',\n",
       "       'armindex', 'armmarg', 'boeth', 'race2', 'race3', 'race4', 'race5',\n",
       "       'coeth', 'corace2', 'corace3', 'corace4', 'corace5', 'hoepa',\n",
       "       'lienstatus', 'spchsggoals', 'fedfinstbltyplan', 'acqtyp', 'gsereo'],\n",
       "      dtype='object')"
      ]
     },
     "execution_count": 338,
     "metadata": {},
     "output_type": "execute_result"
    }
   ],
   "source": [
    "# define numeric column variable and show names of columns.\n",
    "numeric_columns = num_col(df)\n",
    "numeric_columns"
   ]
  },
  {
   "cell_type": "code",
   "execution_count": 339,
   "metadata": {},
   "outputs": [
    {
     "name": "stdout",
     "output_type": "stream",
     "text": [
      "The number of non-numerical columns is 3\n"
     ]
    },
    {
     "data": {
      "text/plain": [
       "Index(['bank', 'proptype', 'prepayp'], dtype='object')"
      ]
     },
     "execution_count": 339,
     "metadata": {},
     "output_type": "execute_result"
    }
   ],
   "source": [
    "# define non-numeric column variable and show names of columns.\n",
    "non_numeric_columns = non_num_col(df)\n",
    "non_numeric_columns"
   ]
  },
  {
   "cell_type": "markdown",
   "metadata": {},
   "source": [
    "### b. Graphing Functions Used Throughout Notebook"
   ]
  },
  {
   "cell_type": "code",
   "execution_count": 340,
   "metadata": {},
   "outputs": [],
   "source": [
    "# create a function that will make distribution plots for each numerical column in a dataframe\n",
    "# function takes name of dataframe and list of numerical columns\n",
    "\n",
    "def graphdistplt (df, columns):\n",
    "    nlength = math.floor(math.sqrt(len(columns)))+1\n",
    "    plt.figure(figsize=(20, 20))\n",
    "    i = 1\n",
    "    for col in columns:\n",
    "        plt.subplot(nlength, nlength, i)\n",
    "        sns.distplot(df[col], color='r')\n",
    "        plt.title(F\"Distribution plot of {col}\")\n",
    "        i+=1\n",
    "\n",
    "    plt.tight_layout()\n",
    "    plt.show()"
   ]
  },
  {
   "cell_type": "code",
   "execution_count": 341,
   "metadata": {},
   "outputs": [],
   "source": [
    "# distribution visualization of data before and after boxcox transformation\n",
    "\n",
    "def graphboxcox (df, columns):\n",
    "    adj_df = df.copy()\n",
    "    plt.figure(figsize=(20, 20))\n",
    "    i = 1\n",
    "    for col in columns:\n",
    "\n",
    "        # original data \n",
    "        ind = 4*((i-1)//4)+i # for 1st row, 3rd row...\n",
    "        plt.subplot(len(columns)//4 + 1, 4, ind)\n",
    "        sns.distplot(df[col])\n",
    "        plt.title(f'{col}', fontsize=12)\n",
    "\n",
    "        # transformed data\n",
    "        ind2 = 4*(((i-1)//4)+1)+i # for 2nd row, 4th row...\n",
    "        adj_df[col],lam = boxcox(adj_df[col]) # transform data by taking log of data\n",
    "        plt.subplot(len(columns)//4 + 1, 4, ind2)\n",
    "        sns.distplot(adj_df[col], color='r')\n",
    "        plt.title(f'Boxcox transformed {col},lamba = {round(lam, 2)}', fontsize=12)\n",
    "        i+=1\n",
    "\n",
    "    plt.tight_layout()\n",
    "    plt.show()"
   ]
  },
  {
   "cell_type": "code",
   "execution_count": 342,
   "metadata": {},
   "outputs": [],
   "source": [
    "# create a function that will make box plots for each numerical column in a dataframe\n",
    "# function takes name of dataframe and list of numerical columns\n",
    "\n",
    "def graphboxplt (df, columns):\n",
    "    rowlength = math.floor(math.sqrt(len(columns)))\n",
    "    fig, axes = plt.subplots(nrows=rowlength+1, ncols=(rowlength+1), figsize=(16,16)) \n",
    "    axes = axes.flatten()\n",
    "\n",
    "    for i,x in enumerate (columns):\n",
    "        #axes[i].hist(df[x])\n",
    "        axes[i].set_title(\"\\n\".join(wrap(x,40))).set_y(1.05)\n",
    "        axes[i].boxplot(df[x],\n",
    "                        sym = \"k.\",\n",
    "                        notch=True,  # notch shape\n",
    "                        vert=True,  # vertical box alignment\n",
    "                        patch_artist=True,  # fill with color\n",
    "                        showfliers=True, # show outliers\n",
    "                        flierprops=dict(color='red'))\n",
    "    fig.tight_layout()\n",
    "    fig.subplots_adjust(top=0.8)\n",
    "    plt.show()\n",
    "    "
   ]
  },
  {
   "cell_type": "code",
   "execution_count": 343,
   "metadata": {},
   "outputs": [],
   "source": [
    "# create a function that will make scatter plots for each numerical column in a dataframe\n",
    "# function takes name of dataframe and list of numerical columns\n",
    "\n",
    "def graphscatter (df, columns, z):\n",
    "    rowlength = math.floor(math.sqrt(len(columns)))\n",
    "    fig, axes = plt.subplots(nrows=rowlength+1, ncols=(rowlength+1), figsize=(16,16)) \n",
    "    axes = axes.flatten()\n",
    "\n",
    "    for i,x in enumerate (columns):\n",
    "        axes[i].set_title(\"\\n\".join(wrap(x,40))).set_y(1.05)\n",
    "        axes[i].scatter(df[x], df[z], alpha=0.5) \n",
    "    fig.tight_layout()\n",
    "    fig.subplots_adjust(top=0.8)\n",
    "    plt.show()\n",
    "    "
   ]
  },
  {
   "cell_type": "code",
   "execution_count": 344,
   "metadata": {},
   "outputs": [],
   "source": [
    "# create a function that will make seaborn scatter plots with regression line for \n",
    "# each numerical column in a dataframe\n",
    "# function takes name of dataframe and list of numerical columns\n",
    "\n",
    "def graphscattersns (df, columns, z):\n",
    "    col_length = 5\n",
    "    fig, axes = plt.subplots(nrows=len(columns)//col_length + 1, ncols=col_length, figsize=(64,64)) \n",
    "    axes = axes.flatten()\n",
    "\n",
    "    for i,x in enumerate (columns):\n",
    "        axes[i].set_title(\"\\n\".join(wrap(x,40)),fontsize = 25).set_y(1.05)\n",
    "        sns.regplot(x = x, y = z, data = df, ax = axes[i]) # seaborn\n",
    "    \n",
    "    #fig.tight_layout()\n",
    "    fig.subplots_adjust(top=1)\n",
    "    plt.show()\n",
    "    "
   ]
  },
  {
   "cell_type": "markdown",
   "metadata": {},
   "source": [
    "### c. Dive Into The Data, EDA"
   ]
  },
  {
   "cell_type": "code",
   "execution_count": 345,
   "metadata": {},
   "outputs": [],
   "source": [
    "# Too many variables, but we'd love to use if we had more computing power:\n",
    "# g = sns.pairplot(df[numeric_columns]) "
   ]
  },
  {
   "cell_type": "code",
   "execution_count": 346,
   "metadata": {},
   "outputs": [],
   "source": [
    "# Too many variables, but we'd love to use if we had more computing power:\n",
    "# Let's take 'purpose' of a loan into consideration and check out the pairplot\n",
    "# As per the dictionary, most of the data would compare purchase vs refinance loans\n",
    "# g = sns.pairplot(df[numeric_columns], hue=\"purpose\", palette=\"Set2\", diag_kind=\"kde\")\n",
    "## Useful for reference: https://seaborn.pydata.org/tutorial/axis_grids.html"
   ]
  },
  {
   "cell_type": "code",
   "execution_count": 347,
   "metadata": {},
   "outputs": [
    {
     "name": "stderr",
     "output_type": "stream",
     "text": [
      "/Users/Mahfuz-Tamim/anaconda3/lib/python3.6/site-packages/statsmodels/nonparametric/kde.py:487: RuntimeWarning: invalid value encountered in true_divide\n",
      "  binned = fast_linbin(X, a, b, gridsize) / (delta * nobs)\n",
      "/Users/Mahfuz-Tamim/anaconda3/lib/python3.6/site-packages/statsmodels/nonparametric/kdetools.py:34: RuntimeWarning: invalid value encountered in double_scalars\n",
      "  FAC1 = 2*(np.pi*bw/RANGE)**2\n",
      "/Users/Mahfuz-Tamim/anaconda3/lib/python3.6/site-packages/numpy/core/_methods.py:26: RuntimeWarning: invalid value encountered in reduce\n",
      "  return umr_maximum(a, axis, None, out, keepdims)\n"
     ]
    },
    {
     "data": {
      "image/png": "[encoded data removed]",
      "text/plain": [
       "<Figure size 1440x1440 with 79 Axes>"
      ]
     },
     "metadata": {},
     "output_type": "display_data"
    }
   ],
   "source": [
    "# visually inspect distribution for each column\n",
    "graphdistplt(df,numeric_columns)"
   ]
  },
  {
   "cell_type": "code",
   "execution_count": 348,
   "metadata": {},
   "outputs": [
    {
     "data": {
      "image/png": "[encoded data removed]",
      "text/plain": [
       "<Figure size 1152x1152 with 81 Axes>"
      ]
     },
     "metadata": {},
     "output_type": "display_data"
    }
   ],
   "source": [
    "# visually inspect outliers  for each column\n",
    "graphboxplt(df,numeric_columns)"
   ]
  },
  {
   "cell_type": "markdown",
   "metadata": {},
   "source": [
    "**Takeaways:** From these graphs, we take away that many of the columns are pseudonumerical - a lot of them are actually categorical in nature but just happen to be imputted as numbers to define each category. Let's take a deeper dive into the dictionary and be more selective of the columns we want to use for clutering purposes.'"
   ]
  },
  {
   "cell_type": "code",
   "execution_count": 349,
   "metadata": {},
   "outputs": [
    {
     "data": {
      "text/plain": [
       "['year',\n",
       " 'assignedid',\n",
       " 'bank',\n",
       " 'fipsstatecode',\n",
       " 'fipscountycode',\n",
       " 'msa',\n",
       " 'featureid',\n",
       " 'tract',\n",
       " 'minper',\n",
       " 'tramedy',\n",
       " 'locmedy',\n",
       " 'tractrat',\n",
       " 'income',\n",
       " 'curarey',\n",
       " 'incrat',\n",
       " 'upb',\n",
       " 'ltv',\n",
       " 'mortdate',\n",
       " 'acqudate',\n",
       " 'purpose',\n",
       " 'coop',\n",
       " 'product',\n",
       " 'fedguar',\n",
       " 'term',\n",
       " 'amorterm',\n",
       " 'selltype',\n",
       " 'numbor',\n",
       " 'first',\n",
       " 'cica',\n",
       " 'borace',\n",
       " 'corace',\n",
       " 'bogender',\n",
       " 'cogender',\n",
       " 'boage',\n",
       " 'coage',\n",
       " 'occup',\n",
       " 'numunits',\n",
       " 'bed1',\n",
       " 'bed2',\n",
       " 'bed3',\n",
       " 'bed4',\n",
       " 'aff1',\n",
       " 'aff2',\n",
       " 'aff3',\n",
       " 'aff4',\n",
       " 'rent1',\n",
       " 'rent2',\n",
       " 'rent3',\n",
       " 'rent4',\n",
       " 'rentut1',\n",
       " 'rentut2',\n",
       " 'rentut3',\n",
       " 'rentut4',\n",
       " 'geog',\n",
       " 'rate',\n",
       " 'amount',\n",
       " 'front',\n",
       " 'back',\n",
       " 'bocreditscore',\n",
       " 'cobocreditscore',\n",
       " 'pmi',\n",
       " 'self',\n",
       " 'proptype',\n",
       " 'armindex',\n",
       " 'armmarg',\n",
       " 'prepayp',\n",
       " 'boeth',\n",
       " 'race2',\n",
       " 'race3',\n",
       " 'race4',\n",
       " 'race5',\n",
       " 'coeth',\n",
       " 'corace2',\n",
       " 'corace3',\n",
       " 'corace4',\n",
       " 'corace5',\n",
       " 'hoepa',\n",
       " 'lienstatus',\n",
       " 'spchsggoals',\n",
       " 'fedfinstbltyplan',\n",
       " 'acqtyp',\n",
       " 'gsereo']"
      ]
     },
     "execution_count": 349,
     "metadata": {},
     "output_type": "execute_result"
    }
   ],
   "source": [
    "# copy the list of column_names\n",
    "column_names"
   ]
  },
  {
   "cell_type": "code",
   "execution_count": 350,
   "metadata": {},
   "outputs": [],
   "source": [
    "# go through library to choose features of interest and assign to a new variable\n",
    "feature_columns = ['year',\n",
    "#'assignedid',\n",
    "                   'bank',\n",
    "                   'fipsstatecode',\n",
    "                   'fipscountycode',\n",
    "# 'msa',\n",
    "                   'featureid',\n",
    "                   'tract',\n",
    "                   'minper',\n",
    "                   'tramedy',\n",
    "                   'locmedy',\n",
    "                   'tractrat',\n",
    "                   'income',\n",
    "                   'curarey',\n",
    "                   'incrat',\n",
    "                   'upb',\n",
    "                   'ltv',\n",
    "                   'mortdate',\n",
    "                   'acqudate',\n",
    "                   'purpose',\n",
    "# 'coop',\n",
    "                   'product',\n",
    "                   'fedguar',\n",
    "                   'term',\n",
    "                   'amorterm',\n",
    "# 'selltype',\n",
    "                   'numbor',\n",
    "                   'first',\n",
    "# 'cica',\n",
    "                   'borace',\n",
    "# 'corace',\n",
    "                   'bogender',\n",
    "# 'cogender',\n",
    "                   'boage',\n",
    "# 'coage',\n",
    "                   'occup',\n",
    "                   'numunits',\n",
    "# 'bed1',\n",
    "# 'bed2',=\n",
    "# 'bed3',\n",
    "# 'bed4',\n",
    "# 'aff1',\n",
    "# 'aff2',\n",
    "# 'aff3',\n",
    "# 'aff4',\n",
    "# 'rent1',\n",
    "# 'rent2',\n",
    "# 'rent3',\n",
    "# 'rent4',\n",
    "# 'rentut1',\n",
    "# 'rentut2',\n",
    "# 'rentut3',\n",
    "# 'rentut4',\n",
    "# 'geog',\n",
    "                   'rate',\n",
    "                   'amount',\n",
    "                   'front',\n",
    "                   'back',\n",
    "                   'bocreditscore',\n",
    "# 'cobocreditscore',\n",
    "                   'pmi',\n",
    "                   'self',\n",
    "                   'proptype',\n",
    "#  'armindex',\n",
    "#  'armmarg',\n",
    "#  'prepayp',\n",
    "#  'boeth',\n",
    "#  'race2',\n",
    "#  'race3',\n",
    "#  'race4',\n",
    "#  'race5',\n",
    "#  'coeth',\n",
    "#  'corace2',\n",
    "#  'corace3',\n",
    "#  'corace4',\n",
    "#  'corace5',\n",
    "#  'hoepa',\n",
    "#  'lienstatus',\n",
    "#  'spchsggoals',\n",
    "#  'fedfinstbltyplan',\n",
    "#  'acqtyp',\n",
    "                   'gsereo']"
   ]
  },
  {
   "cell_type": "code",
   "execution_count": 351,
   "metadata": {},
   "outputs": [
    {
     "data": {
      "text/plain": [
       "['year',\n",
       " 'bank',\n",
       " 'fipsstatecode',\n",
       " 'fipscountycode',\n",
       " 'featureid',\n",
       " 'tract',\n",
       " 'minper',\n",
       " 'tramedy',\n",
       " 'locmedy',\n",
       " 'tractrat',\n",
       " 'income',\n",
       " 'curarey',\n",
       " 'incrat',\n",
       " 'upb',\n",
       " 'ltv',\n",
       " 'mortdate',\n",
       " 'acqudate',\n",
       " 'purpose',\n",
       " 'product',\n",
       " 'fedguar',\n",
       " 'term',\n",
       " 'amorterm',\n",
       " 'numbor',\n",
       " 'first',\n",
       " 'borace',\n",
       " 'bogender',\n",
       " 'boage',\n",
       " 'occup',\n",
       " 'numunits',\n",
       " 'rate',\n",
       " 'amount',\n",
       " 'front',\n",
       " 'back',\n",
       " 'bocreditscore',\n",
       " 'pmi',\n",
       " 'self',\n",
       " 'proptype',\n",
       " 'gsereo']"
      ]
     },
     "execution_count": 351,
     "metadata": {},
     "output_type": "execute_result"
    }
   ],
   "source": [
    "# let's see our list of possible feature columns to include into our model\n",
    "feature_columns"
   ]
  },
  {
   "cell_type": "code",
   "execution_count": 352,
   "metadata": {},
   "outputs": [],
   "source": [
    "# from the chosen feature_columns, we have to choose the features that are \n",
    "# continuous in nature.\n",
    "# TODO: For future projects, it would be nice to figure out a more \n",
    "# Pythonic way to address this issue instead of handling it manually. \n",
    "# StackOverFlow has a variety of suggestions but none are readily \n",
    "# applicable nor generalizable\n",
    "\n",
    "feature_columns_cont = ['year',\n",
    "#                         'bank',\n",
    "#                         'fipsstatecode',\n",
    "#                         'fipscountycode',\n",
    "#                         'featureid',\n",
    "#                         'tract',\n",
    "                        'minper',\n",
    "                        'tramedy',\n",
    "                        'locmedy',\n",
    "                        'tractrat',\n",
    "                        'income',\n",
    "                        'curarey',\n",
    "                        'incrat',\n",
    "                        'upb',\n",
    "                        'ltv',\n",
    "                        'mortdate',\n",
    "                        'acqudate',\n",
    "#                         'purpose',\n",
    "#                         'product',\n",
    "#                         'fedguar',\n",
    "                        'term',\n",
    "                        'amorterm',\n",
    "                        'numbor',\n",
    "#                         'first',\n",
    "#                         'borace',\n",
    "#                         'bogender',\n",
    "                        'boage',\n",
    "#                         'occup',\n",
    "                        'numunits',\n",
    "                        'rate',\n",
    "                        'amount',\n",
    "                        'front',\n",
    "                        'back',\n",
    "#                         'bocreditscore',\n",
    "                        'pmi',\n",
    "#                         'self',\n",
    "#                         'proptype',\n",
    "#                         'gsereo'\n",
    "                       ]"
   ]
  },
  {
   "cell_type": "code",
   "execution_count": 353,
   "metadata": {},
   "outputs": [
    {
     "data": {
      "text/plain": [
       "['year',\n",
       " 'minper',\n",
       " 'tramedy',\n",
       " 'locmedy',\n",
       " 'tractrat',\n",
       " 'income',\n",
       " 'curarey',\n",
       " 'incrat',\n",
       " 'upb',\n",
       " 'ltv',\n",
       " 'mortdate',\n",
       " 'acqudate',\n",
       " 'term',\n",
       " 'amorterm',\n",
       " 'numbor',\n",
       " 'boage',\n",
       " 'numunits',\n",
       " 'rate',\n",
       " 'amount',\n",
       " 'front',\n",
       " 'back',\n",
       " 'pmi']"
      ]
     },
     "execution_count": 353,
     "metadata": {},
     "output_type": "execute_result"
    }
   ],
   "source": [
    "# these are the columns with continuous values\n",
    "feature_columns_cont"
   ]
  },
  {
   "cell_type": "code",
   "execution_count": 354,
   "metadata": {},
   "outputs": [],
   "source": [
    "# select the remain columns and define them as categorical data\n",
    "feature_columns_cat = list(set(feature_columns).difference(feature_columns_cont))"
   ]
  },
  {
   "cell_type": "code",
   "execution_count": null,
   "metadata": {},
   "outputs": [
    {
     "data": {
      "text/plain": [
       "['borace',\n",
       " 'fipsstatecode',\n",
       " 'purpose',\n",
       " 'tract',\n",
       " 'fipscountycode',\n",
       " 'proptype',\n",
       " 'bocreditscore',\n",
       " 'self',\n",
       " 'bogender',\n",
       " 'featureid',\n",
       " 'fedguar',\n",
       " 'bank',\n",
       " 'first',\n",
       " 'occup',\n",
       " 'gsereo',\n",
       " 'product']"
      ]
     },
     "execution_count": 355,
     "metadata": {},
     "output_type": "execute_result"
    }
   ],
   "source": [
    "# these are the columns with categorical values\n",
    "feature_columns_cat"
   ]
  },
  {
   "cell_type": "code",
   "execution_count": null,
   "metadata": {},
   "outputs": [
    {
     "name": "stderr",
     "output_type": "stream",
     "text": [
      "/Users/Mahfuz-Tamim/anaconda3/lib/python3.6/site-packages/statsmodels/nonparametric/kde.py:487: RuntimeWarning: invalid value encountered in true_divide\n",
      "  binned = fast_linbin(X, a, b, gridsize) / (delta * nobs)\n",
      "/Users/Mahfuz-Tamim/anaconda3/lib/python3.6/site-packages/statsmodels/nonparametric/kdetools.py:34: RuntimeWarning: invalid value encountered in double_scalars\n",
      "  FAC1 = 2*(np.pi*bw/RANGE)**2\n",
      "/Users/Mahfuz-Tamim/anaconda3/lib/python3.6/site-packages/numpy/core/_methods.py:26: RuntimeWarning: invalid value encountered in reduce\n",
      "  return umr_maximum(a, axis, None, out, keepdims)\n"
     ]
    }
   ],
   "source": [
    "# Let's revist the continuous variables and see what the \n",
    "# data looks like; is there clean up to be done?\n",
    "graphdistplt(df,feature_columns_cont)"
   ]
  },
  {
   "cell_type": "code",
   "execution_count": null,
   "metadata": {},
   "outputs": [],
   "source": [
    "# Let's revist the continuous variables and see what the \n",
    "# data looks like; is there clean up to be done?\n",
    "graphboxplt(df,feature_columns_cont)"
   ]
  },
  {
   "cell_type": "markdown",
   "metadata": {},
   "source": [
    "We note that some of these continuous variables are not useful for our model; the dataset is mostly restricted to loans that were acquired in 2018 so year, mortdate and acqudate don't need to be investigated. Initially we were curious to see if there might be certain trends or clusters that relate to acquisition date of a mortgage but this dataset does not seem to contain the data needed to investigate such a possibility.  \n",
    "\n",
    "NOTE ON OUTLIERS: Though these graphs may show outliers in relation to where the majority of points lie, they are not outliers in terms of non-sensical data. For example, none of the percentage data incorrectly exceeds 100% or becomes negative. Additionally, some variables also become useless if we remove these 'outliers' since the column will be reduced to single values such as the 'term' column which mostly seems to revolve around a full 360 months. We will consider handling income and boage as two columns that could benefit from removal of outliers on the upper end. These two columns can benefit from winsorization to remove the effects of really high outlier values. "
   ]
  },
  {
   "cell_type": "code",
   "execution_count": null,
   "metadata": {},
   "outputs": [],
   "source": [
    "from scipy.stats.mstats import winsorize\n",
    "\n",
    "# add new winsorized columns to address outliers for those columns\n",
    "df['income_win'] = winsorize(df['income'], (0, 0.10))\n",
    "df['age_win'] = winsorize(df['boage'], (0, 0.10))\n",
    "\n",
    "# update the feature variables\n",
    "feature_columns += ['income_win','age_win']\n",
    "feature_columns_cont += ['income_win','age_win']\n",
    "\n",
    "feature_columns.remove('income')\n",
    "feature_columns.remove('boage')\n",
    "print(feature_columns)\n",
    "feature_columns_cont.remove('income')\n",
    "feature_columns_cont.remove('boage')\n",
    "print(feature_columns_cont)"
   ]
  },
  {
   "cell_type": "code",
   "execution_count": null,
   "metadata": {},
   "outputs": [],
   "source": [
    "# How many categorical columns do we have\n",
    "len(feature_columns_cat)"
   ]
  },
  {
   "cell_type": "code",
   "execution_count": null,
   "metadata": {},
   "outputs": [],
   "source": [
    "# # And how about our categorical data, what does that look like?\n",
    "# # make graphs to visualize variation in categorical columns; \n",
    "plt.figure(figsize=(30,50))\n",
    "\n",
    "for index, column in enumerate(feature_columns_cat):\n",
    "    plt.subplot(5,4,index+1)\n",
    "    plt.bar(df.groupby(column)[\"purpose\"].count().index, df.groupby(column)[\"purpose\"].count())\n",
    "    plt.title(f\"#Purpose Type wrt. {column}\")\n",
    "    plt.ylabel(\"Count\")\n",
    "    plt.xlabel(column)\n",
    "    plt.xticks(rotation='vertical')\n",
    "\n",
    "plt.tight_layout()\n",
    "plt.show()"
   ]
  },
  {
   "cell_type": "markdown",
   "metadata": {},
   "source": [
    "Interestingly, quantity of mortgages meant for regular purchase vs refinance definitely varies with location, which is noted through a variety of columns. We suspect these columns will be colinear in a correlation matrix since they all are location related: fipsstatecode, tract,fipscountycode, bank. \n",
    "Additionally, we learn that some variables may not be useful at all such as product, featureid, selltype - in the case of these variables, though other categories are theoretically possible as per the dictionary, no other instances of the category exist. We will drop them going forward. \n",
    "\n",
    "We will revisit these categorical columns later; let's see what we can get with continuous variables for now."
   ]
  },
  {
   "cell_type": "code",
   "execution_count": null,
   "metadata": {},
   "outputs": [],
   "source": [
    "# let's look at our continuous variables and use a correlation matrix \n",
    "# to remove colinear variables.\n",
    "corr = df[feature_columns_cont].corr()\n",
    "corr.style.background_gradient(cmap='coolwarm').set_precision(2)"
   ]
  },
  {
   "cell_type": "markdown",
   "metadata": {},
   "source": [
    "That doesn't look good. Let's clean up our list of continuous variables."
   ]
  },
  {
   "cell_type": "code",
   "execution_count": null,
   "metadata": {},
   "outputs": [],
   "source": [
    "feature_columns_cont"
   ]
  },
  {
   "cell_type": "code",
   "execution_count": null,
   "metadata": {},
   "outputs": [],
   "source": [
    "feature_columns_cont1 = [#'year',\n",
    "                        'minper',\n",
    "                        'tramedy',\n",
    "                        'locmedy',\n",
    "                        'tractrat',\n",
    "                        'curarey',\n",
    "                        'incrat',\n",
    "                        'upb',\n",
    "                        'ltv',\n",
    "                        'mortdate',\n",
    "                        #'acqudate',\n",
    "                        'term',\n",
    "                        'amorterm',\n",
    "                        'numbor',\n",
    "                        'numunits',\n",
    "                        'rate',\n",
    "                        'amount',\n",
    "                        'front',\n",
    "                        'back',\n",
    "                        'pmi',\n",
    "                        'income_win',\n",
    "                        'age_win']"
   ]
  },
  {
   "cell_type": "code",
   "execution_count": null,
   "metadata": {},
   "outputs": [],
   "source": [
    "# let's look at our updated continuous variables and use a correlation matrix \n",
    "# to remove colinear variables.\n",
    "corr = df[feature_columns_cont1].corr()\n",
    "corr.style.background_gradient(cmap='coolwarm').set_precision(2)"
   ]
  },
  {
   "cell_type": "markdown",
   "metadata": {},
   "source": [
    "Let's remove tractrat which is actually based on the tramedy column. We can also suffice with curarey and drop more detailed locmedy data. We can drop term and amorterm since almost all the data is from 2019. UPB and amount are the same since all the loans are from 2018. If we had data going back multiple years, the distinctions between these columns would have been more helpful. We will keep UPB."
   ]
  },
  {
   "cell_type": "code",
   "execution_count": null,
   "metadata": {},
   "outputs": [],
   "source": [
    "# let's make a new variable of continuous variable features to keep as per our comments\n",
    "feature_columns_cont2 =['minper',\n",
    "                        'tramedy',\n",
    "                        #'locmedy',\n",
    "                        #'tractrat',\n",
    "                        #'income',\n",
    "                        'curarey',\n",
    "                        'incrat',\n",
    "                        'upb',\n",
    "                        'ltv',\n",
    "                        'mortdate',\n",
    "                        #'term',\n",
    "                        #'amorterm',\n",
    "                        'numbor',\n",
    "                        'numunits',\n",
    "                        'rate',\n",
    "                        #'amount',\n",
    "                        'front',\n",
    "                        'back',\n",
    "                        'pmi',\n",
    "                        'income_win',\n",
    "                        'age_win']"
   ]
  },
  {
   "cell_type": "code",
   "execution_count": null,
   "metadata": {},
   "outputs": [],
   "source": [
    "# let's look at our updated continuous variables using correlation matrix\n",
    "corr = df[feature_columns_cont2].corr()\n",
    "corr.style.background_gradient(cmap='coolwarm').set_precision(2)"
   ]
  },
  {
   "cell_type": "markdown",
   "metadata": {},
   "source": [
    "## 4. Unsupervised Models"
   ]
  },
  {
   "cell_type": "code",
   "execution_count": null,
   "metadata": {},
   "outputs": [],
   "source": [
    "# the column purpose has category descriptions on whether a mortgage is for\n",
    "# a regular purchase (1), refinance (2), and new construction (4)\n",
    "df.groupby(\"purpose\").purpose.count()\n",
    "\n",
    "# We will do a run down of how the models look without fixing the class inbalance.\n",
    "# Then we will sample from the regular purchase group so that we can make even classes\n",
    "# and rerun the tests."
   ]
  },
  {
   "cell_type": "markdown",
   "metadata": {},
   "source": [
    "### K-mean clusters"
   ]
  },
  {
   "cell_type": "code",
   "execution_count": null,
   "metadata": {},
   "outputs": [],
   "source": [
    "# define dataframe with only the useful continuous variables\n",
    "df1 = df[feature_columns_cont2] \n",
    "\n",
    "# Define the features and the outcome.\n",
    "X = df1\n",
    "\n",
    "# three targets from purpose\n",
    "y = df['purpose']"
   ]
  },
  {
   "cell_type": "markdown",
   "metadata": {},
   "source": [
    "#### a. without normalization of X, k = 2"
   ]
  },
  {
   "cell_type": "code",
   "execution_count": null,
   "metadata": {},
   "outputs": [],
   "source": [
    "# without normalization\n",
    "# Reduce it to two components.\n",
    "X_pca = PCA(2).fit_transform(X)\n",
    "\n",
    "# Calculate predicted values, k = 2.\n",
    "y_pred = KMeans(n_clusters=2, random_state=42).fit_predict(X_pca)\n",
    "\n",
    "# Plot the solution.\n",
    "plt.scatter(X_pca[:, 0], X_pca[:, 1], c=y_pred)\n",
    "plt.show()\n",
    "\n",
    "# Check the solution against the data.\n",
    "print('Comparing k-means clusters against the data:')\n",
    "print(pd.crosstab(y_pred, y))"
   ]
  },
  {
   "cell_type": "markdown",
   "metadata": {},
   "source": [
    "The clusters don't seem to be based on the purpose columns and don't mimic them well."
   ]
  },
  {
   "cell_type": "markdown",
   "metadata": {},
   "source": [
    "#### b. with normalization of X, k = 2"
   ]
  },
  {
   "cell_type": "code",
   "execution_count": null,
   "metadata": {},
   "outputs": [],
   "source": [
    "# Normalize the data.\n",
    "X_norm = normalize(X)\n",
    "\n",
    "# Reduce it to two components.\n",
    "X_pca = PCA(2).fit_transform(X_norm)\n",
    "\n",
    "# Calculate predicted values, k = 2.\n",
    "y_pred = KMeans(n_clusters=2, random_state=42).fit_predict(X_pca)\n",
    "\n",
    "# Plot the solution.\n",
    "plt.scatter(X_pca[:, 0], X_pca[:, 1], c=y_pred)\n",
    "plt.show()\n",
    "\n",
    "# Check the solution against the data.\n",
    "print('Comparing k-means clusters against the data:')\n",
    "print(pd.crosstab(y_pred, y))"
   ]
  },
  {
   "cell_type": "markdown",
   "metadata": {},
   "source": [
    "Normalization helps to balance out the weight of some the features it seems, but again The clusters don't seem to be based on the purpose columns and don't mimic them well."
   ]
  },
  {
   "cell_type": "markdown",
   "metadata": {},
   "source": [
    "#### c. without normalization of X, k = 3"
   ]
  },
  {
   "cell_type": "code",
   "execution_count": null,
   "metadata": {},
   "outputs": [],
   "source": [
    "# without normalization\n",
    "# Reduce it to two components.\n",
    "X_pca = PCA(2).fit_transform(X)\n",
    "\n",
    "# Calculate predicted values, k = 3.\n",
    "y_pred = KMeans(n_clusters=3, random_state=42).fit_predict(X_pca)\n",
    "\n",
    "# Plot the solution.\n",
    "plt.scatter(X_pca[:, 0], X_pca[:, 1], c=y_pred)\n",
    "plt.show()\n",
    "\n",
    "# Check the solution against the data.\n",
    "print('Comparing k-means clusters against the data:')\n",
    "print(pd.crosstab(y_pred, y))"
   ]
  },
  {
   "cell_type": "markdown",
   "metadata": {},
   "source": [
    "#### d. with normalization of X, k = 3"
   ]
  },
  {
   "cell_type": "code",
   "execution_count": null,
   "metadata": {},
   "outputs": [],
   "source": [
    "# Normalize the data.\n",
    "X_norm = normalize(X)\n",
    "\n",
    "# Reduce it to two components.\n",
    "X_pca = PCA(2).fit_transform(X_norm)\n",
    "\n",
    "# Calculate predicted values, k = 3.\n",
    "y_pred = KMeans(n_clusters=3, random_state=42).fit_predict(X_pca)\n",
    "\n",
    "# Plot the solution.\n",
    "plt.scatter(X_pca[:, 0], X_pca[:, 1], c=y_pred)\n",
    "plt.show()\n",
    "\n",
    "# Check the solution against the data.\n",
    "print('Comparing k-means clusters against the data:')\n",
    "print(pd.crosstab(y_pred, y))"
   ]
  },
  {
   "cell_type": "markdown",
   "metadata": {},
   "source": [
    "Increasing the k clusters don't seem to be helping us parse out for the different purpose groups. It would seem as though the algorithm can segregate the dataset but it's not immediately clear what these clusters represent."
   ]
  },
  {
   "cell_type": "markdown",
   "metadata": {},
   "source": [
    "#### Use elbow method to determine optimal k clusters."
   ]
  },
  {
   "cell_type": "code",
   "execution_count": null,
   "metadata": {},
   "outputs": [],
   "source": [
    "# get range of inertia scores with increase k values. \n",
    "# Inflection pt in the graph will tell you optimal clusters\n",
    "scores = [KMeans(n_clusters=i+2).fit(X_norm).inertia_ for i in range(10)]"
   ]
  },
  {
   "cell_type": "code",
   "execution_count": null,
   "metadata": {},
   "outputs": [],
   "source": [
    "%matplotlib inline\n",
    "sns.lineplot(np.arange(2, 12), scores)\n",
    "plt.xlabel('Number of clusters')\n",
    "plt.ylabel(\"Inertia\")\n",
    "plt.title(\"Inertia of k-Means versus number of clusters\")\n",
    "\n",
    "plt.show()\n",
    "## Helpful background: https://towardsdatascience.com/cluster-analysis-create-visualize-and-interpret-customer-segments-474e55d00ebb"
   ]
  },
  {
   "cell_type": "markdown",
   "metadata": {},
   "source": [
    "It would seem that the optimal amount of clusters is 4 which is where the inflection point is in the inertia graph above. "
   ]
  },
  {
   "cell_type": "markdown",
   "metadata": {},
   "source": [
    "### Mean shift clusters"
   ]
  },
  {
   "cell_type": "code",
   "execution_count": null,
   "metadata": {},
   "outputs": [],
   "source": [
    "#Divide into training and test sets.\n",
    "# Normalize the data.\n",
    "X_norm = normalize(X)\n",
    "\n",
    "X_train, X_test, y_train, y_test = train_test_split(\n",
    "    X_norm,\n",
    "    y,\n",
    "    test_size=0.9,\n",
    "    random_state=42)"
   ]
  },
  {
   "cell_type": "code",
   "execution_count": null,
   "metadata": {
    "scrolled": true
   },
   "outputs": [],
   "source": [
    "X_train"
   ]
  },
  {
   "cell_type": "code",
   "execution_count": null,
   "metadata": {},
   "outputs": [],
   "source": [
    "from sklearn.cluster import MeanShift, estimate_bandwidth\n",
    "\n",
    "# Reduce it to three components.\n",
    "X_pca = PCA(3).fit_transform(X_train)\n",
    "\n",
    "# Here we set the bandwidth. This function automatically derives a bandwidth\n",
    "# number based on an inspection of the distances among points in the data.\n",
    "bandwidth = estimate_bandwidth(X_train, quantile=0.2, n_samples=500)\n",
    "\n",
    "# Declare and fit the model.\n",
    "ms = MeanShift(bandwidth=bandwidth, bin_seeding=True)\n",
    "ms.fit(X_train)\n",
    "\n",
    "# Extract cluster assignments for each data point.\n",
    "labels = ms.labels_\n",
    "\n",
    "# Coordinates of the cluster centers.\n",
    "cluster_centers = ms.cluster_centers_\n",
    "\n",
    "# Count our clusters.\n",
    "n_clusters_ = len(np.unique(labels))\n",
    "\n",
    "print(\"Number of estimated clusters: {}\".format(n_clusters_))\n"
   ]
  },
  {
   "cell_type": "code",
   "execution_count": null,
   "metadata": {},
   "outputs": [],
   "source": [
    "from mpl_toolkits.mplot3d import Axes3D\n",
    "\n",
    "# needed to play with 3D aspect of graph\n",
    "%matplotlib notebook\n",
    "\n",
    "fig = plt.figure()\n",
    "ax = fig.add_subplot(111, projection='3d')\n",
    "\n",
    "x = X_pca[:, 0]\n",
    "y = X_pca[:, 1]\n",
    "z = X_pca[:, 2]\n",
    "\n",
    "ax.scatter(x, y, z, c=labels, marker='o')\n",
    "\n",
    "ax.set_xlabel('X Label')\n",
    "ax.set_ylabel('Y Label')\n",
    "ax.set_zlabel('Z Label')\n",
    "\n",
    "plt.show()\n",
    "\n",
    "# rotate the axes and update\n",
    "for angle in range(0, 360):\n",
    "    ax.view_init(30, angle)\n",
    "    plt.draw()\n",
    "    #plt.pause(.001)"
   ]
  },
  {
   "cell_type": "code",
   "execution_count": 289,
   "metadata": {},
   "outputs": [],
   "source": [
    "#reset to seeing plots inline (3D animation will stop)\n",
    "%matplotlib inline "
   ]
  },
  {
   "cell_type": "code",
   "execution_count": 290,
   "metadata": {},
   "outputs": [
    {
     "name": "stdout",
     "output_type": "stream",
     "text": [
      "Comparing the assigned categories to the ones in the data:\n",
      "col_0       0    1   2\n",
      "purpose               \n",
      "1        4138  174  92\n",
      "2        1982  113  70\n",
      "4           1    0   0\n"
     ]
    }
   ],
   "source": [
    "print('Comparing the assigned categories to the ones in the data:')\n",
    "print(pd.crosstab(y_train,labels))"
   ]
  },
  {
   "cell_type": "markdown",
   "metadata": {},
   "source": [
    "This algorithm sees three clusters as optimal but this too does not align well with our purpose category. Clearly other features are being clustered in the dataset."
   ]
  },
  {
   "cell_type": "markdown",
   "metadata": {},
   "source": [
    "## 5.  Revised Unsupervised Models, Classes Balanced"
   ]
  },
  {
   "cell_type": "code",
   "execution_count": 291,
   "metadata": {},
   "outputs": [
    {
     "data": {
      "text/plain": [
       "purpose\n",
       "1    43313\n",
       "2    22374\n",
       "4       16\n",
       "Name: purpose, dtype: int64"
      ]
     },
     "execution_count": 291,
     "metadata": {},
     "output_type": "execute_result"
    }
   ],
   "source": [
    "# the column purpose has category descriptions on whether a mortgage is for\n",
    "# a regular purchase (1), refinance (2), and new construction (4)\n",
    "df.groupby(\"purpose\").purpose.count()\n",
    "\n",
    "# Sample from the regular purchase group and drop new construction entries so that\n",
    "# we can make compare balanced classes."
   ]
  },
  {
   "cell_type": "code",
   "execution_count": 292,
   "metadata": {},
   "outputs": [
    {
     "data": {
      "text/plain": [
       "22374"
      ]
     },
     "execution_count": 292,
     "metadata": {},
     "output_type": "execute_result"
    }
   ],
   "source": [
    "df.purpose.value_counts()[2]\n"
   ]
  },
  {
   "cell_type": "code",
   "execution_count": 293,
   "metadata": {},
   "outputs": [
    {
     "name": "stdout",
     "output_type": "stream",
     "text": [
      "We have dropped 16 entries\n"
     ]
    },
    {
     "data": {
      "text/html": [
       "<div>\n",
       "<style scoped>\n",
       "    .dataframe tbody tr th:only-of-type {\n",
       "        vertical-align: middle;\n",
       "    }\n",
       "\n",
       "    .dataframe tbody tr th {\n",
       "        vertical-align: top;\n",
       "    }\n",
       "\n",
       "    .dataframe thead th {\n",
       "        text-align: right;\n",
       "    }\n",
       "</style>\n",
       "<table border=\"1\" class=\"dataframe\">\n",
       "  <thead>\n",
       "    <tr style=\"text-align: right;\">\n",
       "      <th></th>\n",
       "      <th>year</th>\n",
       "      <th>assignedid</th>\n",
       "      <th>bank</th>\n",
       "      <th>fipsstatecode</th>\n",
       "      <th>fipscountycode</th>\n",
       "      <th>msa</th>\n",
       "      <th>featureid</th>\n",
       "      <th>tract</th>\n",
       "      <th>minper</th>\n",
       "      <th>tramedy</th>\n",
       "      <th>...</th>\n",
       "      <th>corace4</th>\n",
       "      <th>corace5</th>\n",
       "      <th>hoepa</th>\n",
       "      <th>lienstatus</th>\n",
       "      <th>spchsggoals</th>\n",
       "      <th>fedfinstbltyplan</th>\n",
       "      <th>acqtyp</th>\n",
       "      <th>gsereo</th>\n",
       "      <th>income_win</th>\n",
       "      <th>age_win</th>\n",
       "    </tr>\n",
       "  </thead>\n",
       "  <tbody>\n",
       "    <tr>\n",
       "      <th>0</th>\n",
       "      <td>2018</td>\n",
       "      <td>2131406</td>\n",
       "      <td>Atlanta</td>\n",
       "      <td>24</td>\n",
       "      <td>21</td>\n",
       "      <td>47900</td>\n",
       "      <td>9999999999</td>\n",
       "      <td>7512.01</td>\n",
       "      <td>29.85</td>\n",
       "      <td>93261</td>\n",
       "      <td>...</td>\n",
       "      <td>6</td>\n",
       "      <td>6</td>\n",
       "      <td>2</td>\n",
       "      <td>1</td>\n",
       "      <td>2</td>\n",
       "      <td>2</td>\n",
       "      <td>1</td>\n",
       "      <td>2</td>\n",
       "      <td>146196</td>\n",
       "      <td>41</td>\n",
       "    </tr>\n",
       "    <tr>\n",
       "      <th>1</th>\n",
       "      <td>2018</td>\n",
       "      <td>2131407</td>\n",
       "      <td>Atlanta</td>\n",
       "      <td>24</td>\n",
       "      <td>17</td>\n",
       "      <td>47900</td>\n",
       "      <td>9999999999</td>\n",
       "      <td>8509.04</td>\n",
       "      <td>67.24</td>\n",
       "      <td>112623</td>\n",
       "      <td>...</td>\n",
       "      <td>6</td>\n",
       "      <td>6</td>\n",
       "      <td>2</td>\n",
       "      <td>1</td>\n",
       "      <td>2</td>\n",
       "      <td>2</td>\n",
       "      <td>1</td>\n",
       "      <td>2</td>\n",
       "      <td>156972</td>\n",
       "      <td>61</td>\n",
       "    </tr>\n",
       "    <tr>\n",
       "      <th>2</th>\n",
       "      <td>2018</td>\n",
       "      <td>2131408</td>\n",
       "      <td>Atlanta</td>\n",
       "      <td>51</td>\n",
       "      <td>153</td>\n",
       "      <td>47900</td>\n",
       "      <td>9999999999</td>\n",
       "      <td>9012.36</td>\n",
       "      <td>40.76</td>\n",
       "      <td>140156</td>\n",
       "      <td>...</td>\n",
       "      <td>6</td>\n",
       "      <td>6</td>\n",
       "      <td>2</td>\n",
       "      <td>1</td>\n",
       "      <td>2</td>\n",
       "      <td>2</td>\n",
       "      <td>1</td>\n",
       "      <td>2</td>\n",
       "      <td>191660</td>\n",
       "      <td>55</td>\n",
       "    </tr>\n",
       "    <tr>\n",
       "      <th>3</th>\n",
       "      <td>2018</td>\n",
       "      <td>2131409</td>\n",
       "      <td>Atlanta</td>\n",
       "      <td>51</td>\n",
       "      <td>59</td>\n",
       "      <td>47900</td>\n",
       "      <td>9999999999</td>\n",
       "      <td>4221.02</td>\n",
       "      <td>75.97</td>\n",
       "      <td>89250</td>\n",
       "      <td>...</td>\n",
       "      <td>8</td>\n",
       "      <td>8</td>\n",
       "      <td>2</td>\n",
       "      <td>1</td>\n",
       "      <td>2</td>\n",
       "      <td>2</td>\n",
       "      <td>1</td>\n",
       "      <td>2</td>\n",
       "      <td>132000</td>\n",
       "      <td>27</td>\n",
       "    </tr>\n",
       "    <tr>\n",
       "      <th>4</th>\n",
       "      <td>2018</td>\n",
       "      <td>2131410</td>\n",
       "      <td>Atlanta</td>\n",
       "      <td>24</td>\n",
       "      <td>5</td>\n",
       "      <td>12580</td>\n",
       "      <td>9999999999</td>\n",
       "      <td>4924.02</td>\n",
       "      <td>64.56</td>\n",
       "      <td>81397</td>\n",
       "      <td>...</td>\n",
       "      <td>8</td>\n",
       "      <td>8</td>\n",
       "      <td>2</td>\n",
       "      <td>1</td>\n",
       "      <td>2</td>\n",
       "      <td>2</td>\n",
       "      <td>1</td>\n",
       "      <td>2</td>\n",
       "      <td>29376</td>\n",
       "      <td>22</td>\n",
       "    </tr>\n",
       "    <tr>\n",
       "      <th>...</th>\n",
       "      <td>...</td>\n",
       "      <td>...</td>\n",
       "      <td>...</td>\n",
       "      <td>...</td>\n",
       "      <td>...</td>\n",
       "      <td>...</td>\n",
       "      <td>...</td>\n",
       "      <td>...</td>\n",
       "      <td>...</td>\n",
       "      <td>...</td>\n",
       "      <td>...</td>\n",
       "      <td>...</td>\n",
       "      <td>...</td>\n",
       "      <td>...</td>\n",
       "      <td>...</td>\n",
       "      <td>...</td>\n",
       "      <td>...</td>\n",
       "      <td>...</td>\n",
       "      <td>...</td>\n",
       "      <td>...</td>\n",
       "      <td>...</td>\n",
       "    </tr>\n",
       "    <tr>\n",
       "      <th>65698</th>\n",
       "      <td>2018</td>\n",
       "      <td>2161350</td>\n",
       "      <td>Topeka</td>\n",
       "      <td>40</td>\n",
       "      <td>143</td>\n",
       "      <td>46140</td>\n",
       "      <td>9999999999</td>\n",
       "      <td>75.22</td>\n",
       "      <td>22.82</td>\n",
       "      <td>69635</td>\n",
       "      <td>...</td>\n",
       "      <td>6</td>\n",
       "      <td>6</td>\n",
       "      <td>2</td>\n",
       "      <td>1</td>\n",
       "      <td>2</td>\n",
       "      <td>2</td>\n",
       "      <td>1</td>\n",
       "      <td>2</td>\n",
       "      <td>100008</td>\n",
       "      <td>43</td>\n",
       "    </tr>\n",
       "    <tr>\n",
       "      <th>65699</th>\n",
       "      <td>2018</td>\n",
       "      <td>2161351</td>\n",
       "      <td>Topeka</td>\n",
       "      <td>31</td>\n",
       "      <td>109</td>\n",
       "      <td>30700</td>\n",
       "      <td>9999999999</td>\n",
       "      <td>37.09</td>\n",
       "      <td>7.61</td>\n",
       "      <td>94198</td>\n",
       "      <td>...</td>\n",
       "      <td>6</td>\n",
       "      <td>6</td>\n",
       "      <td>2</td>\n",
       "      <td>1</td>\n",
       "      <td>2</td>\n",
       "      <td>2</td>\n",
       "      <td>1</td>\n",
       "      <td>2</td>\n",
       "      <td>154452</td>\n",
       "      <td>55</td>\n",
       "    </tr>\n",
       "    <tr>\n",
       "      <th>65700</th>\n",
       "      <td>2018</td>\n",
       "      <td>2161352</td>\n",
       "      <td>Topeka</td>\n",
       "      <td>19</td>\n",
       "      <td>133</td>\n",
       "      <td>99999</td>\n",
       "      <td>9999999999</td>\n",
       "      <td>9602.00</td>\n",
       "      <td>3.69</td>\n",
       "      <td>69688</td>\n",
       "      <td>...</td>\n",
       "      <td>8</td>\n",
       "      <td>8</td>\n",
       "      <td>2</td>\n",
       "      <td>1</td>\n",
       "      <td>2</td>\n",
       "      <td>2</td>\n",
       "      <td>1</td>\n",
       "      <td>2</td>\n",
       "      <td>54540</td>\n",
       "      <td>26</td>\n",
       "    </tr>\n",
       "    <tr>\n",
       "      <th>65701</th>\n",
       "      <td>2018</td>\n",
       "      <td>2161353</td>\n",
       "      <td>Topeka</td>\n",
       "      <td>31</td>\n",
       "      <td>153</td>\n",
       "      <td>36540</td>\n",
       "      <td>9999999999</td>\n",
       "      <td>106.23</td>\n",
       "      <td>10.16</td>\n",
       "      <td>98707</td>\n",
       "      <td>...</td>\n",
       "      <td>6</td>\n",
       "      <td>6</td>\n",
       "      <td>2</td>\n",
       "      <td>1</td>\n",
       "      <td>2</td>\n",
       "      <td>2</td>\n",
       "      <td>1</td>\n",
       "      <td>2</td>\n",
       "      <td>87996</td>\n",
       "      <td>26</td>\n",
       "    </tr>\n",
       "    <tr>\n",
       "      <th>65702</th>\n",
       "      <td>2018</td>\n",
       "      <td>2161354</td>\n",
       "      <td>Topeka</td>\n",
       "      <td>31</td>\n",
       "      <td>179</td>\n",
       "      <td>99999</td>\n",
       "      <td>9999999999</td>\n",
       "      <td>9787.00</td>\n",
       "      <td>9.02</td>\n",
       "      <td>69090</td>\n",
       "      <td>...</td>\n",
       "      <td>6</td>\n",
       "      <td>6</td>\n",
       "      <td>2</td>\n",
       "      <td>1</td>\n",
       "      <td>2</td>\n",
       "      <td>2</td>\n",
       "      <td>1</td>\n",
       "      <td>2</td>\n",
       "      <td>91320</td>\n",
       "      <td>61</td>\n",
       "    </tr>\n",
       "  </tbody>\n",
       "</table>\n",
       "<p>65687 rows × 84 columns</p>\n",
       "</div>"
      ],
      "text/plain": [
       "       year  assignedid     bank  fipsstatecode  fipscountycode    msa  \\\n",
       "0      2018     2131406  Atlanta             24              21  47900   \n",
       "1      2018     2131407  Atlanta             24              17  47900   \n",
       "2      2018     2131408  Atlanta             51             153  47900   \n",
       "3      2018     2131409  Atlanta             51              59  47900   \n",
       "4      2018     2131410  Atlanta             24               5  12580   \n",
       "...     ...         ...      ...            ...             ...    ...   \n",
       "65698  2018     2161350   Topeka             40             143  46140   \n",
       "65699  2018     2161351   Topeka             31             109  30700   \n",
       "65700  2018     2161352   Topeka             19             133  99999   \n",
       "65701  2018     2161353   Topeka             31             153  36540   \n",
       "65702  2018     2161354   Topeka             31             179  99999   \n",
       "\n",
       "        featureid    tract  minper  tramedy  ...  corace4  corace5  hoepa  \\\n",
       "0      9999999999  7512.01   29.85    93261  ...        6        6      2   \n",
       "1      9999999999  8509.04   67.24   112623  ...        6        6      2   \n",
       "2      9999999999  9012.36   40.76   140156  ...        6        6      2   \n",
       "3      9999999999  4221.02   75.97    89250  ...        8        8      2   \n",
       "4      9999999999  4924.02   64.56    81397  ...        8        8      2   \n",
       "...           ...      ...     ...      ...  ...      ...      ...    ...   \n",
       "65698  9999999999    75.22   22.82    69635  ...        6        6      2   \n",
       "65699  9999999999    37.09    7.61    94198  ...        6        6      2   \n",
       "65700  9999999999  9602.00    3.69    69688  ...        8        8      2   \n",
       "65701  9999999999   106.23   10.16    98707  ...        6        6      2   \n",
       "65702  9999999999  9787.00    9.02    69090  ...        6        6      2   \n",
       "\n",
       "       lienstatus  spchsggoals  fedfinstbltyplan  acqtyp  gsereo  income_win  \\\n",
       "0               1            2                 2       1       2      146196   \n",
       "1               1            2                 2       1       2      156972   \n",
       "2               1            2                 2       1       2      191660   \n",
       "3               1            2                 2       1       2      132000   \n",
       "4               1            2                 2       1       2       29376   \n",
       "...           ...          ...               ...     ...     ...         ...   \n",
       "65698           1            2                 2       1       2      100008   \n",
       "65699           1            2                 2       1       2      154452   \n",
       "65700           1            2                 2       1       2       54540   \n",
       "65701           1            2                 2       1       2       87996   \n",
       "65702           1            2                 2       1       2       91320   \n",
       "\n",
       "       age_win  \n",
       "0           41  \n",
       "1           61  \n",
       "2           55  \n",
       "3           27  \n",
       "4           22  \n",
       "...        ...  \n",
       "65698       43  \n",
       "65699       55  \n",
       "65700       26  \n",
       "65701       26  \n",
       "65702       61  \n",
       "\n",
       "[65687 rows x 84 columns]"
      ]
     },
     "execution_count": 293,
     "metadata": {},
     "output_type": "execute_result"
    }
   ],
   "source": [
    "df1 = df[df.purpose != 4]\n",
    "print (f\"We have dropped {df.shape[0] - df1.shape[0]} entries\")\n",
    "df1"
   ]
  },
  {
   "cell_type": "code",
   "execution_count": 294,
   "metadata": {},
   "outputs": [
    {
     "data": {
      "text/plain": [
       "(20939, 84)"
      ]
     },
     "execution_count": 294,
     "metadata": {},
     "output_type": "execute_result"
    }
   ],
   "source": [
    "# make a dummy df where we sample the amount of entries we want to drop from the \n",
    "# original df in order to balance out the two clases\n",
    "df2 = df1[df1.purpose == 1].sample(n = df.purpose.value_counts()[1] - df.purpose.value_counts()[2], random_state=1)\n",
    "df2.shape"
   ]
  },
  {
   "cell_type": "code",
   "execution_count": 295,
   "metadata": {},
   "outputs": [
    {
     "data": {
      "text/plain": [
       "65703"
      ]
     },
     "execution_count": 295,
     "metadata": {},
     "output_type": "execute_result"
    }
   ],
   "source": [
    "df.assignedid.nunique()"
   ]
  },
  {
   "cell_type": "code",
   "execution_count": 296,
   "metadata": {},
   "outputs": [
    {
     "data": {
      "text/plain": [
       "(44748, 84)"
      ]
     },
     "execution_count": 296,
     "metadata": {},
     "output_type": "execute_result"
    }
   ],
   "source": [
    "combined = df1.append(df2)\n",
    "df3 = combined[~combined.index.duplicated(keep=False)]\n",
    "df3.shape"
   ]
  },
  {
   "cell_type": "markdown",
   "metadata": {},
   "source": [
    "### K-mean clusters"
   ]
  },
  {
   "cell_type": "code",
   "execution_count": 314,
   "metadata": {},
   "outputs": [],
   "source": [
    "# define dataframe with only the useful continuous variables\n",
    "df4 = df3[feature_columns_cont2] \n",
    "\n",
    "# Define the features and the outcome.\n",
    "X = df4\n",
    "\n",
    "# three targets from purpose\n",
    "y = df3['purpose']"
   ]
  },
  {
   "cell_type": "markdown",
   "metadata": {},
   "source": [
    "#### a. without normalization of X, k = 2"
   ]
  },
  {
   "cell_type": "code",
   "execution_count": 298,
   "metadata": {},
   "outputs": [
    {
     "data": {
      "image/png": "[encoded data removed]",
      "text/plain": [
       "<Figure size 432x288 with 1 Axes>"
      ]
     },
     "metadata": {},
     "output_type": "display_data"
    },
    {
     "name": "stdout",
     "output_type": "stream",
     "text": [
      "Comparing k-means clusters against the data:\n",
      "purpose      1      2\n",
      "row_0                \n",
      "0         6809   6582\n",
      "1        15565  15792\n"
     ]
    }
   ],
   "source": [
    "# without normalization\n",
    "# Reduce it to two components.\n",
    "X_pca = PCA(2).fit_transform(X)\n",
    "\n",
    "# Calculate predicted values, k = 2.\n",
    "y_pred = KMeans(n_clusters=2, random_state=42).fit_predict(X_pca)\n",
    "\n",
    "# Plot the solution.\n",
    "plt.scatter(X_pca[:, 0], X_pca[:, 1], c=y_pred)\n",
    "plt.show()\n",
    "\n",
    "# Check the solution against the data.\n",
    "print('Comparing k-means clusters against the data:')\n",
    "print(pd.crosstab(y_pred, y))"
   ]
  },
  {
   "cell_type": "markdown",
   "metadata": {},
   "source": [
    "#### b. with normalization of X, k = 2"
   ]
  },
  {
   "cell_type": "code",
   "execution_count": 170,
   "metadata": {},
   "outputs": [
    {
     "data": {
      "image/png": "[encoded data removed]",
      "text/plain": [
       "<Figure size 432x288 with 1 Axes>"
      ]
     },
     "metadata": {},
     "output_type": "display_data"
    },
    {
     "name": "stdout",
     "output_type": "stream",
     "text": [
      "Comparing k-means clusters against the data:\n",
      "purpose      1      2\n",
      "row_0                \n",
      "0        15374  14461\n",
      "1         7000   7913\n"
     ]
    }
   ],
   "source": [
    "# Normalize the data.\n",
    "X_norm = normalize(X)\n",
    "\n",
    "# Reduce it to two components.\n",
    "X_pca = PCA(2).fit_transform(X_norm)\n",
    "\n",
    "# Calculate predicted values, k = 2.\n",
    "y_pred = KMeans(n_clusters=2, random_state=42).fit_predict(X_pca)\n",
    "\n",
    "# Plot the solution.\n",
    "plt.scatter(X_pca[:, 0], X_pca[:, 1], c=y_pred)\n",
    "plt.show()\n",
    "\n",
    "# Check the solution against the data.\n",
    "print('Comparing k-means clusters against the data:')\n",
    "print(pd.crosstab(y_pred, y))"
   ]
  },
  {
   "cell_type": "markdown",
   "metadata": {},
   "source": [
    "#### c. without normalization of X, k = 3"
   ]
  },
  {
   "cell_type": "code",
   "execution_count": 299,
   "metadata": {},
   "outputs": [
    {
     "data": {
      "image/png": "[encoded data removed]",
      "text/plain": [
       "<Figure size 432x288 with 1 Axes>"
      ]
     },
     "metadata": {},
     "output_type": "display_data"
    },
    {
     "name": "stdout",
     "output_type": "stream",
     "text": [
      "Comparing k-means clusters against the data:\n",
      "purpose      1      2\n",
      "row_0                \n",
      "0         8861   8125\n",
      "1         3476   3505\n",
      "2        10037  10744\n"
     ]
    }
   ],
   "source": [
    "# without normalization\n",
    "# Reduce it to two components.\n",
    "X_pca = PCA(2).fit_transform(X)\n",
    "\n",
    "# Calculate predicted values, k = 3.\n",
    "y_pred = KMeans(n_clusters=3, random_state=42).fit_predict(X_pca)\n",
    "\n",
    "# Plot the solution.\n",
    "plt.scatter(X_pca[:, 0], X_pca[:, 1], c=y_pred)\n",
    "plt.show()\n",
    "\n",
    "# Check the solution against the data.\n",
    "print('Comparing k-means clusters against the data:')\n",
    "print(pd.crosstab(y_pred, y))"
   ]
  },
  {
   "cell_type": "markdown",
   "metadata": {},
   "source": [
    "#### d. with normalization of X, k = 3"
   ]
  },
  {
   "cell_type": "code",
   "execution_count": 300,
   "metadata": {},
   "outputs": [
    {
     "data": {
      "image/png": "[encoded data removed]",
      "text/plain": [
       "<Figure size 432x288 with 1 Axes>"
      ]
     },
     "metadata": {},
     "output_type": "display_data"
    },
    {
     "name": "stdout",
     "output_type": "stream",
     "text": [
      "Comparing k-means clusters against the data:\n",
      "purpose      1      2\n",
      "row_0                \n",
      "0         5305   5555\n",
      "1        12649  11896\n",
      "2         4420   4923\n"
     ]
    }
   ],
   "source": [
    "# Normalize the data.\n",
    "X_norm = normalize(X)\n",
    "\n",
    "# Reduce it to two components.\n",
    "X_pca = PCA(2).fit_transform(X_norm)\n",
    "\n",
    "# Calculate predicted values, k = 3.\n",
    "y_pred = KMeans(n_clusters=3, random_state=42).fit_predict(X_pca)\n",
    "\n",
    "# Plot the solution.\n",
    "plt.scatter(X_pca[:, 0], X_pca[:, 1], c=y_pred)\n",
    "plt.show()\n",
    "\n",
    "# Check the solution against the data.\n",
    "print('Comparing k-means clusters against the data:')\n",
    "print(pd.crosstab(y_pred, y))"
   ]
  },
  {
   "cell_type": "markdown",
   "metadata": {},
   "source": [
    "#### Use elbow method to determine optimal k clusters."
   ]
  },
  {
   "cell_type": "code",
   "execution_count": 301,
   "metadata": {},
   "outputs": [],
   "source": [
    "# get range of inertia scores with increase k values. \n",
    "# Inflection pt will tell you optimal clusters\n",
    "scores = [KMeans(n_clusters=i+2).fit(X_norm).inertia_ for i in range(10)]"
   ]
  },
  {
   "cell_type": "code",
   "execution_count": 302,
   "metadata": {},
   "outputs": [
    {
     "data": {
      "image/png": "[encoded data removed]",
      "text/plain": [
       "<Figure size 432x288 with 1 Axes>"
      ]
     },
     "metadata": {},
     "output_type": "display_data"
    }
   ],
   "source": [
    "%matplotlib inline\n",
    "sns.lineplot(np.arange(2, 12), scores)\n",
    "plt.xlabel('Number of clusters')\n",
    "plt.ylabel(\"Inertia\")\n",
    "plt.title(\"Inertia of k-Means versus number of clusters\")\n",
    "\n",
    "plt.show()\n",
    "## Helpful background: https://towardsdatascience.com/cluster-analysis-create-visualize-and-interpret-customer-segments-474e55d00ebb"
   ]
  },
  {
   "cell_type": "markdown",
   "metadata": {},
   "source": [
    "It would seem that the optimal amount of clusters is 4 which is where the inflection point is in the inertia graph above. "
   ]
  },
  {
   "cell_type": "markdown",
   "metadata": {},
   "source": [
    "### Mean shift clusters"
   ]
  },
  {
   "cell_type": "code",
   "execution_count": 315,
   "metadata": {},
   "outputs": [],
   "source": [
    "#Divide into training and test sets.\n",
    "# Normalize the data.\n",
    "X_norm = normalize(X)\n",
    "\n",
    "X_train, X_test, y_train, y_test = train_test_split(\n",
    "    X_norm,\n",
    "    y,\n",
    "    test_size=0.9,\n",
    "    random_state=42)"
   ]
  },
  {
   "cell_type": "code",
   "execution_count": 316,
   "metadata": {
    "scrolled": true
   },
   "outputs": [
    {
     "data": {
      "text/plain": [
       "array([[2.50613794e-05, 2.38487320e-01, 2.33475044e-01, ...,\n",
       "        0.00000000e+00, 4.10570068e-01, 1.29349055e-04],\n",
       "       [3.49464796e-05, 2.71139194e-01, 2.47993166e-01, ...,\n",
       "        1.09344429e-06, 3.85535336e-01, 1.66203532e-04],\n",
       "       [3.39771519e-05, 1.87777929e-01, 1.39905919e-01, ...,\n",
       "        0.00000000e+00, 2.24319743e-01, 6.71817140e-05],\n",
       "       ...,\n",
       "       [3.42461516e-05, 2.54450225e-01, 2.65968186e-01, ...,\n",
       "        0.00000000e+00, 4.88124159e-01, 3.25316460e-04],\n",
       "       [3.61152937e-05, 3.24004587e-01, 2.77425439e-01, ...,\n",
       "        0.00000000e+00, 3.72149981e-01, 1.45794150e-04],\n",
       "       [2.10029800e-05, 2.07532283e-01, 1.72293950e-01, ...,\n",
       "        0.00000000e+00, 2.59635066e-01, 9.43396266e-05]])"
      ]
     },
     "execution_count": 316,
     "metadata": {},
     "output_type": "execute_result"
    }
   ],
   "source": [
    "X_train"
   ]
  },
  {
   "cell_type": "code",
   "execution_count": 322,
   "metadata": {},
   "outputs": [
    {
     "name": "stdout",
     "output_type": "stream",
     "text": [
      "Number of estimated clusters: 2\n"
     ]
    }
   ],
   "source": [
    "from sklearn.cluster import MeanShift, estimate_bandwidth\n",
    "\n",
    "# Reduce it to two components.\n",
    "X_pca = PCA(2).fit_transform(X_train)\n",
    "\n",
    "# Here we set the bandwidth. This function automatically derives a bandwidth\n",
    "# number based on an inspection of the distances among points in the data.\n",
    "bandwidth = estimate_bandwidth(X_train, quantile=0.2, n_samples=500)\n",
    "\n",
    "# Declare and fit the model.\n",
    "ms = MeanShift(bandwidth=bandwidth, bin_seeding=True)\n",
    "ms.fit(X_train)\n",
    "\n",
    "# Extract cluster assignments for each data point.\n",
    "labels = ms.labels_\n",
    "\n",
    "# Coordinates of the cluster centers.\n",
    "cluster_centers = ms.cluster_centers_\n",
    "\n",
    "# Count our clusters.\n",
    "n_clusters_ = len(np.unique(labels))\n",
    "\n",
    "print(\"Number of estimated clusters: {}\".format(n_clusters_))\n"
   ]
  },
  {
   "cell_type": "code",
   "execution_count": 323,
   "metadata": {},
   "outputs": [
    {
     "data": {
      "image/png": "[encoded data removed]",
      "text/plain": [
       "<Figure size 432x288 with 1 Axes>"
      ]
     },
     "metadata": {},
     "output_type": "display_data"
    }
   ],
   "source": [
    "#reset to seeing plots inline (3D animation will stop)\n",
    "%matplotlib inline \n",
    "# Plot the solution.\n",
    "plt.scatter(X_pca[:, 0], X_pca[:, 1], c=labels)\n",
    "plt.show()"
   ]
  },
  {
   "cell_type": "code",
   "execution_count": 308,
   "metadata": {},
   "outputs": [
    {
     "name": "stdout",
     "output_type": "stream",
     "text": [
      "Comparing the assigned categories to the ones in the data:\n",
      "col_0       0    1\n",
      "purpose           \n",
      "1        2049  160\n",
      "2        2062  203\n"
     ]
    }
   ],
   "source": [
    "print('Comparing the assigned categories to the ones in the data:')\n",
    "print(pd.crosstab(y_train,labels))"
   ]
  },
  {
   "cell_type": "markdown",
   "metadata": {},
   "source": [
    "# Conclusion"
   ]
  },
  {
   "cell_type": "markdown",
   "metadata": {},
   "source": [
    "After a second round of cleaning the data, taking care of class bias and rerunning K-means and mean shift unsupervised models, we are not really segregating  the data in anything more than a 50-50 split. It would seem as though the algorithm was not able to find true clusters and so the probability of ending up in one cluster or another is no better than the flip of a coin. Therefore, it would seem as though we would accept our null hypothesis of no apparent differences noted between mortgages meant for purchases vs mortgages meant for refinancing. It would be interesting to determine the features that contribute to the clusters we found in a future project."
   ]
  },
  {
   "cell_type": "code",
   "execution_count": null,
   "metadata": {},
   "outputs": [],
   "source": []
  }
 ],
 "metadata": {
  "kernelspec": {
   "display_name": "Python 3",
   "language": "python",
   "name": "python3"
  },
  "language_info": {
   "codemirror_mode": {
    "name": "ipython",
    "version": 3
   },
   "file_extension": ".py",
   "mimetype": "text/x-python",
   "name": "python",
   "nbconvert_exporter": "python",
   "pygments_lexer": "ipython3",
   "version": "3.6.4"
  }
 },
 "nbformat": 4,
 "nbformat_minor": 2
}
